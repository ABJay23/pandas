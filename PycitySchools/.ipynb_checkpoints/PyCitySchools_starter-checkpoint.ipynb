{
 "cells": [
  {
   "cell_type": "markdown",
   "metadata": {},
   "source": [
    "### Note\n",
    "* Instructions have been included for each segment. You do not have to follow them exactly, but they are included to help you think through the steps."
   ]
  },
  {
   "cell_type": "code",
   "execution_count": 1,
   "metadata": {},
   "outputs": [],
   "source": [
    "# Dependencies and Setup\n",
    "import pandas as pd\n",
    "import numpy as np"
   ]
  },
  {
   "cell_type": "code",
   "execution_count": 2,
   "metadata": {},
   "outputs": [],
   "source": [
    "# File to Load (Remember to Change These)\n",
    "school_data_to_load = \"Resources/schools_complete.csv\"\n",
    "student_data_to_load = \"Resources/students_complete.csv\""
   ]
  },
  {
   "cell_type": "code",
   "execution_count": 3,
   "metadata": {},
   "outputs": [
    {
     "data": {
      "text/html": [
       "<div>\n",
       "<style scoped>\n",
       "    .dataframe tbody tr th:only-of-type {\n",
       "        vertical-align: middle;\n",
       "    }\n",
       "\n",
       "    .dataframe tbody tr th {\n",
       "        vertical-align: top;\n",
       "    }\n",
       "\n",
       "    .dataframe thead th {\n",
       "        text-align: right;\n",
       "    }\n",
       "</style>\n",
       "<table border=\"1\" class=\"dataframe\">\n",
       "  <thead>\n",
       "    <tr style=\"text-align: right;\">\n",
       "      <th></th>\n",
       "      <th>School ID</th>\n",
       "      <th>school_name</th>\n",
       "      <th>type</th>\n",
       "      <th>size</th>\n",
       "      <th>budget</th>\n",
       "    </tr>\n",
       "  </thead>\n",
       "  <tbody>\n",
       "    <tr>\n",
       "      <th>0</th>\n",
       "      <td>0</td>\n",
       "      <td>Huang High School</td>\n",
       "      <td>District</td>\n",
       "      <td>2917</td>\n",
       "      <td>1910635</td>\n",
       "    </tr>\n",
       "    <tr>\n",
       "      <th>1</th>\n",
       "      <td>1</td>\n",
       "      <td>Figueroa High School</td>\n",
       "      <td>District</td>\n",
       "      <td>2949</td>\n",
       "      <td>1884411</td>\n",
       "    </tr>\n",
       "    <tr>\n",
       "      <th>2</th>\n",
       "      <td>2</td>\n",
       "      <td>Shelton High School</td>\n",
       "      <td>Charter</td>\n",
       "      <td>1761</td>\n",
       "      <td>1056600</td>\n",
       "    </tr>\n",
       "    <tr>\n",
       "      <th>3</th>\n",
       "      <td>3</td>\n",
       "      <td>Hernandez High School</td>\n",
       "      <td>District</td>\n",
       "      <td>4635</td>\n",
       "      <td>3022020</td>\n",
       "    </tr>\n",
       "    <tr>\n",
       "      <th>4</th>\n",
       "      <td>4</td>\n",
       "      <td>Griffin High School</td>\n",
       "      <td>Charter</td>\n",
       "      <td>1468</td>\n",
       "      <td>917500</td>\n",
       "    </tr>\n",
       "  </tbody>\n",
       "</table>\n",
       "</div>"
      ],
      "text/plain": [
       "   School ID            school_name      type  size   budget\n",
       "0          0      Huang High School  District  2917  1910635\n",
       "1          1   Figueroa High School  District  2949  1884411\n",
       "2          2    Shelton High School   Charter  1761  1056600\n",
       "3          3  Hernandez High School  District  4635  3022020\n",
       "4          4    Griffin High School   Charter  1468   917500"
      ]
     },
     "execution_count": 3,
     "metadata": {},
     "output_type": "execute_result"
    }
   ],
   "source": [
    "# Read School and Student Data File and store into Pandas DataFrames\n",
    "school_data = pd.read_csv(school_data_to_load)\n",
    "school_data.head()\n"
   ]
  },
  {
   "cell_type": "code",
   "execution_count": 4,
   "metadata": {},
   "outputs": [
    {
     "data": {
      "text/html": [
       "<div>\n",
       "<style scoped>\n",
       "    .dataframe tbody tr th:only-of-type {\n",
       "        vertical-align: middle;\n",
       "    }\n",
       "\n",
       "    .dataframe tbody tr th {\n",
       "        vertical-align: top;\n",
       "    }\n",
       "\n",
       "    .dataframe thead th {\n",
       "        text-align: right;\n",
       "    }\n",
       "</style>\n",
       "<table border=\"1\" class=\"dataframe\">\n",
       "  <thead>\n",
       "    <tr style=\"text-align: right;\">\n",
       "      <th></th>\n",
       "      <th>Student ID</th>\n",
       "      <th>student_name</th>\n",
       "      <th>gender</th>\n",
       "      <th>grade</th>\n",
       "      <th>school_name</th>\n",
       "      <th>reading_score</th>\n",
       "      <th>math_score</th>\n",
       "    </tr>\n",
       "  </thead>\n",
       "  <tbody>\n",
       "    <tr>\n",
       "      <th>0</th>\n",
       "      <td>0</td>\n",
       "      <td>Paul Bradley</td>\n",
       "      <td>M</td>\n",
       "      <td>9th</td>\n",
       "      <td>Huang High School</td>\n",
       "      <td>66</td>\n",
       "      <td>79</td>\n",
       "    </tr>\n",
       "    <tr>\n",
       "      <th>1</th>\n",
       "      <td>1</td>\n",
       "      <td>Victor Smith</td>\n",
       "      <td>M</td>\n",
       "      <td>12th</td>\n",
       "      <td>Huang High School</td>\n",
       "      <td>94</td>\n",
       "      <td>61</td>\n",
       "    </tr>\n",
       "    <tr>\n",
       "      <th>2</th>\n",
       "      <td>2</td>\n",
       "      <td>Kevin Rodriguez</td>\n",
       "      <td>M</td>\n",
       "      <td>12th</td>\n",
       "      <td>Huang High School</td>\n",
       "      <td>90</td>\n",
       "      <td>60</td>\n",
       "    </tr>\n",
       "    <tr>\n",
       "      <th>3</th>\n",
       "      <td>3</td>\n",
       "      <td>Dr. Richard Scott</td>\n",
       "      <td>M</td>\n",
       "      <td>12th</td>\n",
       "      <td>Huang High School</td>\n",
       "      <td>67</td>\n",
       "      <td>58</td>\n",
       "    </tr>\n",
       "    <tr>\n",
       "      <th>4</th>\n",
       "      <td>4</td>\n",
       "      <td>Bonnie Ray</td>\n",
       "      <td>F</td>\n",
       "      <td>9th</td>\n",
       "      <td>Huang High School</td>\n",
       "      <td>97</td>\n",
       "      <td>84</td>\n",
       "    </tr>\n",
       "  </tbody>\n",
       "</table>\n",
       "</div>"
      ],
      "text/plain": [
       "   Student ID       student_name gender grade        school_name  \\\n",
       "0           0       Paul Bradley      M   9th  Huang High School   \n",
       "1           1       Victor Smith      M  12th  Huang High School   \n",
       "2           2    Kevin Rodriguez      M  12th  Huang High School   \n",
       "3           3  Dr. Richard Scott      M  12th  Huang High School   \n",
       "4           4         Bonnie Ray      F   9th  Huang High School   \n",
       "\n",
       "   reading_score  math_score  \n",
       "0             66          79  \n",
       "1             94          61  \n",
       "2             90          60  \n",
       "3             67          58  \n",
       "4             97          84  "
      ]
     },
     "execution_count": 4,
     "metadata": {},
     "output_type": "execute_result"
    }
   ],
   "source": [
    "student_data = pd.read_csv(student_data_to_load)\n",
    "student_data.head()"
   ]
  },
  {
   "cell_type": "code",
   "execution_count": 5,
   "metadata": {},
   "outputs": [
    {
     "data": {
      "text/html": [
       "<div>\n",
       "<style scoped>\n",
       "    .dataframe tbody tr th:only-of-type {\n",
       "        vertical-align: middle;\n",
       "    }\n",
       "\n",
       "    .dataframe tbody tr th {\n",
       "        vertical-align: top;\n",
       "    }\n",
       "\n",
       "    .dataframe thead th {\n",
       "        text-align: right;\n",
       "    }\n",
       "</style>\n",
       "<table border=\"1\" class=\"dataframe\">\n",
       "  <thead>\n",
       "    <tr style=\"text-align: right;\">\n",
       "      <th></th>\n",
       "      <th>Student ID</th>\n",
       "      <th>student_name</th>\n",
       "      <th>gender</th>\n",
       "      <th>grade</th>\n",
       "      <th>school_name</th>\n",
       "      <th>reading_score</th>\n",
       "      <th>math_score</th>\n",
       "      <th>School ID</th>\n",
       "      <th>type</th>\n",
       "      <th>size</th>\n",
       "      <th>budget</th>\n",
       "    </tr>\n",
       "  </thead>\n",
       "  <tbody>\n",
       "    <tr>\n",
       "      <th>0</th>\n",
       "      <td>0</td>\n",
       "      <td>Paul Bradley</td>\n",
       "      <td>M</td>\n",
       "      <td>9th</td>\n",
       "      <td>Huang High School</td>\n",
       "      <td>66</td>\n",
       "      <td>79</td>\n",
       "      <td>0</td>\n",
       "      <td>District</td>\n",
       "      <td>2917</td>\n",
       "      <td>1910635</td>\n",
       "    </tr>\n",
       "    <tr>\n",
       "      <th>1</th>\n",
       "      <td>1</td>\n",
       "      <td>Victor Smith</td>\n",
       "      <td>M</td>\n",
       "      <td>12th</td>\n",
       "      <td>Huang High School</td>\n",
       "      <td>94</td>\n",
       "      <td>61</td>\n",
       "      <td>0</td>\n",
       "      <td>District</td>\n",
       "      <td>2917</td>\n",
       "      <td>1910635</td>\n",
       "    </tr>\n",
       "    <tr>\n",
       "      <th>2</th>\n",
       "      <td>2</td>\n",
       "      <td>Kevin Rodriguez</td>\n",
       "      <td>M</td>\n",
       "      <td>12th</td>\n",
       "      <td>Huang High School</td>\n",
       "      <td>90</td>\n",
       "      <td>60</td>\n",
       "      <td>0</td>\n",
       "      <td>District</td>\n",
       "      <td>2917</td>\n",
       "      <td>1910635</td>\n",
       "    </tr>\n",
       "    <tr>\n",
       "      <th>3</th>\n",
       "      <td>3</td>\n",
       "      <td>Dr. Richard Scott</td>\n",
       "      <td>M</td>\n",
       "      <td>12th</td>\n",
       "      <td>Huang High School</td>\n",
       "      <td>67</td>\n",
       "      <td>58</td>\n",
       "      <td>0</td>\n",
       "      <td>District</td>\n",
       "      <td>2917</td>\n",
       "      <td>1910635</td>\n",
       "    </tr>\n",
       "    <tr>\n",
       "      <th>4</th>\n",
       "      <td>4</td>\n",
       "      <td>Bonnie Ray</td>\n",
       "      <td>F</td>\n",
       "      <td>9th</td>\n",
       "      <td>Huang High School</td>\n",
       "      <td>97</td>\n",
       "      <td>84</td>\n",
       "      <td>0</td>\n",
       "      <td>District</td>\n",
       "      <td>2917</td>\n",
       "      <td>1910635</td>\n",
       "    </tr>\n",
       "    <tr>\n",
       "      <th>...</th>\n",
       "      <td>...</td>\n",
       "      <td>...</td>\n",
       "      <td>...</td>\n",
       "      <td>...</td>\n",
       "      <td>...</td>\n",
       "      <td>...</td>\n",
       "      <td>...</td>\n",
       "      <td>...</td>\n",
       "      <td>...</td>\n",
       "      <td>...</td>\n",
       "      <td>...</td>\n",
       "    </tr>\n",
       "    <tr>\n",
       "      <th>39165</th>\n",
       "      <td>39165</td>\n",
       "      <td>Donna Howard</td>\n",
       "      <td>F</td>\n",
       "      <td>12th</td>\n",
       "      <td>Thomas High School</td>\n",
       "      <td>99</td>\n",
       "      <td>90</td>\n",
       "      <td>14</td>\n",
       "      <td>Charter</td>\n",
       "      <td>1635</td>\n",
       "      <td>1043130</td>\n",
       "    </tr>\n",
       "    <tr>\n",
       "      <th>39166</th>\n",
       "      <td>39166</td>\n",
       "      <td>Dawn Bell</td>\n",
       "      <td>F</td>\n",
       "      <td>10th</td>\n",
       "      <td>Thomas High School</td>\n",
       "      <td>95</td>\n",
       "      <td>70</td>\n",
       "      <td>14</td>\n",
       "      <td>Charter</td>\n",
       "      <td>1635</td>\n",
       "      <td>1043130</td>\n",
       "    </tr>\n",
       "    <tr>\n",
       "      <th>39167</th>\n",
       "      <td>39167</td>\n",
       "      <td>Rebecca Tanner</td>\n",
       "      <td>F</td>\n",
       "      <td>9th</td>\n",
       "      <td>Thomas High School</td>\n",
       "      <td>73</td>\n",
       "      <td>84</td>\n",
       "      <td>14</td>\n",
       "      <td>Charter</td>\n",
       "      <td>1635</td>\n",
       "      <td>1043130</td>\n",
       "    </tr>\n",
       "    <tr>\n",
       "      <th>39168</th>\n",
       "      <td>39168</td>\n",
       "      <td>Desiree Kidd</td>\n",
       "      <td>F</td>\n",
       "      <td>10th</td>\n",
       "      <td>Thomas High School</td>\n",
       "      <td>99</td>\n",
       "      <td>90</td>\n",
       "      <td>14</td>\n",
       "      <td>Charter</td>\n",
       "      <td>1635</td>\n",
       "      <td>1043130</td>\n",
       "    </tr>\n",
       "    <tr>\n",
       "      <th>39169</th>\n",
       "      <td>39169</td>\n",
       "      <td>Carolyn Jackson</td>\n",
       "      <td>F</td>\n",
       "      <td>11th</td>\n",
       "      <td>Thomas High School</td>\n",
       "      <td>95</td>\n",
       "      <td>75</td>\n",
       "      <td>14</td>\n",
       "      <td>Charter</td>\n",
       "      <td>1635</td>\n",
       "      <td>1043130</td>\n",
       "    </tr>\n",
       "  </tbody>\n",
       "</table>\n",
       "<p>39170 rows × 11 columns</p>\n",
       "</div>"
      ],
      "text/plain": [
       "       Student ID       student_name gender grade         school_name  \\\n",
       "0               0       Paul Bradley      M   9th   Huang High School   \n",
       "1               1       Victor Smith      M  12th   Huang High School   \n",
       "2               2    Kevin Rodriguez      M  12th   Huang High School   \n",
       "3               3  Dr. Richard Scott      M  12th   Huang High School   \n",
       "4               4         Bonnie Ray      F   9th   Huang High School   \n",
       "...           ...                ...    ...   ...                 ...   \n",
       "39165       39165       Donna Howard      F  12th  Thomas High School   \n",
       "39166       39166          Dawn Bell      F  10th  Thomas High School   \n",
       "39167       39167     Rebecca Tanner      F   9th  Thomas High School   \n",
       "39168       39168       Desiree Kidd      F  10th  Thomas High School   \n",
       "39169       39169    Carolyn Jackson      F  11th  Thomas High School   \n",
       "\n",
       "       reading_score  math_score  School ID      type  size   budget  \n",
       "0                 66          79          0  District  2917  1910635  \n",
       "1                 94          61          0  District  2917  1910635  \n",
       "2                 90          60          0  District  2917  1910635  \n",
       "3                 67          58          0  District  2917  1910635  \n",
       "4                 97          84          0  District  2917  1910635  \n",
       "...              ...         ...        ...       ...   ...      ...  \n",
       "39165             99          90         14   Charter  1635  1043130  \n",
       "39166             95          70         14   Charter  1635  1043130  \n",
       "39167             73          84         14   Charter  1635  1043130  \n",
       "39168             99          90         14   Charter  1635  1043130  \n",
       "39169             95          75         14   Charter  1635  1043130  \n",
       "\n",
       "[39170 rows x 11 columns]"
      ]
     },
     "execution_count": 5,
     "metadata": {},
     "output_type": "execute_result"
    }
   ],
   "source": [
    "# Combine the data into a single dataset.  \n",
    "school_data_complete = pd.merge(student_data, school_data, how=\"left\", on=[\"school_name\", \"school_name\"])\n",
    "school_data_complete"
   ]
  },
  {
   "cell_type": "markdown",
   "metadata": {},
   "source": [
    "## District Summary\n",
    "\n",
    "* Calculate the total number of schools\n",
    "\n",
    "* Calculate the total number of students\n",
    "\n",
    "* Calculate the total budget\n",
    "\n",
    "* Calculate the average math score \n",
    "\n",
    "* Calculate the average reading score\n",
    "\n",
    "* Calculate the percentage of students with a passing math score (70 or greater)\n",
    "\n",
    "* Calculate the percentage of students with a passing reading score (70 or greater)\n",
    "\n",
    "* Calculate the percentage of students who passed math **and** reading (% Overall Passing)\n",
    "\n",
    "* Create a dataframe to hold the above results\n",
    "\n",
    "* Optional: give the displayed data cleaner formatting"
   ]
  },
  {
   "cell_type": "code",
   "execution_count": 6,
   "metadata": {},
   "outputs": [
    {
     "data": {
      "text/plain": [
       "15"
      ]
     },
     "execution_count": 6,
     "metadata": {},
     "output_type": "execute_result"
    }
   ],
   "source": [
    "#calculate the total number of schools\n",
    "school_count = len(school_data_complete[\"school_name\"].unique())\n",
    "school_count"
   ]
  },
  {
   "cell_type": "code",
   "execution_count": 7,
   "metadata": {},
   "outputs": [
    {
     "data": {
      "text/plain": [
       "39170"
      ]
     },
     "execution_count": 7,
     "metadata": {},
     "output_type": "execute_result"
    }
   ],
   "source": [
    "#calculate the total number of students\n",
    "student_count = school_data_complete[\"Student ID\"].count()\n",
    "student_count"
   ]
  },
  {
   "cell_type": "code",
   "execution_count": 8,
   "metadata": {},
   "outputs": [
    {
     "data": {
      "text/plain": [
       "82932329558"
      ]
     },
     "execution_count": 8,
     "metadata": {},
     "output_type": "execute_result"
    }
   ],
   "source": [
    "# total budget\n",
    "total_budget = school_data_complete[\"budget\"].sum()\n",
    "total_budget\n"
   ]
  },
  {
   "cell_type": "code",
   "execution_count": 9,
   "metadata": {},
   "outputs": [
    {
     "data": {
      "text/plain": [
       "78.98537145774827"
      ]
     },
     "execution_count": 9,
     "metadata": {},
     "output_type": "execute_result"
    }
   ],
   "source": [
    "#calculate average math score\n",
    "average_math_score = school_data_complete[\"math_score\"].mean()\n",
    "average_math_score"
   ]
  },
  {
   "cell_type": "code",
   "execution_count": 10,
   "metadata": {},
   "outputs": [
    {
     "data": {
      "text/plain": [
       "81.87784018381414"
      ]
     },
     "execution_count": 10,
     "metadata": {},
     "output_type": "execute_result"
    }
   ],
   "source": [
    "#Calculate the average reading score\n",
    "average_reading_score = school_data_complete[\"reading_score\"].mean()\n",
    "average_reading_score"
   ]
  },
  {
   "cell_type": "code",
   "execution_count": 11,
   "metadata": {},
   "outputs": [
    {
     "data": {
      "text/plain": [
       "74.9808526933878"
      ]
     },
     "execution_count": 11,
     "metadata": {},
     "output_type": "execute_result"
    }
   ],
   "source": [
    "# Calculate the percentage of students with a passing math score (70 or greater)\n",
    "\n",
    "students_passed_math = school_data_complete.loc[school_data_complete[\"math_score\"] >= 70]\n",
    "\n",
    "number_students_passed_math = students_passed_math[\"Student ID\"].count()\n",
    "\n",
    "\n",
    "\n",
    "percent_passed_math = (number_students_passed_math / student_count) * 100  \n",
    "percent_passed_math\n",
    "\n"
   ]
  },
  {
   "cell_type": "code",
   "execution_count": 12,
   "metadata": {},
   "outputs": [
    {
     "data": {
      "text/plain": [
       "85.80546336482001"
      ]
     },
     "execution_count": 12,
     "metadata": {},
     "output_type": "execute_result"
    }
   ],
   "source": [
    "#Calculate the percentage of students with a passing reading score (70 or greater)\n",
    "students_passed_reading = school_data_complete.loc[school_data_complete[\"reading_score\"] >= 70]\n",
    "\n",
    "number_students_passed_reading = students_passed_reading[\"Student ID\"].count()\n",
    "number_students_passed_reading\n",
    "\n",
    "percent_passed_reading = (number_students_passed_reading / student_count) * 100\n",
    "percent_passed_reading"
   ]
  },
  {
   "cell_type": "code",
   "execution_count": 13,
   "metadata": {},
   "outputs": [
    {
     "data": {
      "text/plain": [
       "65.17232575950983"
      ]
     },
     "execution_count": 13,
     "metadata": {},
     "output_type": "execute_result"
    }
   ],
   "source": [
    "#Calculate the percentage of students who passed math and reading (% Overall Passing)\n",
    "overall_passing = school_data_complete[(school_data_complete[\"math_score\"] >= 70) & (school_data_complete[\"reading_score\"] >= 70)][\"Student ID\"].count()/student_count*100\n",
    "overall_passing\n",
    "\n",
    "\n"
   ]
  },
  {
   "cell_type": "code",
   "execution_count": 14,
   "metadata": {},
   "outputs": [
    {
     "data": {
      "text/html": [
       "<div>\n",
       "<style scoped>\n",
       "    .dataframe tbody tr th:only-of-type {\n",
       "        vertical-align: middle;\n",
       "    }\n",
       "\n",
       "    .dataframe tbody tr th {\n",
       "        vertical-align: top;\n",
       "    }\n",
       "\n",
       "    .dataframe thead th {\n",
       "        text-align: right;\n",
       "    }\n",
       "</style>\n",
       "<table border=\"1\" class=\"dataframe\">\n",
       "  <thead>\n",
       "    <tr style=\"text-align: right;\">\n",
       "      <th></th>\n",
       "      <th>Schools</th>\n",
       "      <th>Students</th>\n",
       "      <th>Total Budget</th>\n",
       "      <th>Average Math Score</th>\n",
       "      <th>Average Reading Score</th>\n",
       "      <th>% Passed Math</th>\n",
       "      <th>% Passed Reading</th>\n",
       "      <th>% overall passing</th>\n",
       "    </tr>\n",
       "  </thead>\n",
       "  <tbody>\n",
       "    <tr>\n",
       "      <th>0</th>\n",
       "      <td>15</td>\n",
       "      <td>39,170</td>\n",
       "      <td>$82,932,329,558.00</td>\n",
       "      <td>78.985371</td>\n",
       "      <td>81.87784</td>\n",
       "      <td>74.980853</td>\n",
       "      <td>85.805463</td>\n",
       "      <td>65.172326</td>\n",
       "    </tr>\n",
       "  </tbody>\n",
       "</table>\n",
       "</div>"
      ],
      "text/plain": [
       "   Schools Students        Total Budget Average Math Score  \\\n",
       "0       15   39,170  $82,932,329,558.00          78.985371   \n",
       "\n",
       "  Average Reading Score % Passed Math % Passed Reading % overall passing  \n",
       "0              81.87784     74.980853        85.805463         65.172326  "
      ]
     },
     "execution_count": 14,
     "metadata": {},
     "output_type": "execute_result"
    }
   ],
   "source": [
    "#Create a dataframe to hold the above results\n",
    "district_summary = pd.DataFrame({\n",
    "    \"Schools\": school_count,\n",
    "    \"Students\": f\"{student_count:,}\",\n",
    "    \"Total Budget\": f\"${total_budget:,.2f}\",\n",
    "    \"Average Math Score\": f\"{average_math_score:.6f}\",\n",
    "    \"Average Reading Score\": f\"{average_reading_score:.5f}\",\n",
    "    \"% Passed Math\": f\"{percent_passed_math:.6f}\",\n",
    "    \"% Passed Reading\": f\"{percent_passed_reading:.6f}\",\n",
    "    \"% overall passing\": f\"{overall_passing: .6f}\"\n",
    "}, index=[0])\n",
    "\n",
    "district_summary"
   ]
  },
  {
   "cell_type": "markdown",
   "metadata": {},
   "source": [
    "## School Summary"
   ]
  },
  {
   "cell_type": "markdown",
   "metadata": {},
   "source": [
    "* Create an overview table that summarizes key metrics about each school, including:\n",
    "  * School Name\n",
    "  * School Type\n",
    "  * Total Students\n",
    "  * Total School Budget\n",
    "  * Per Student Budget\n",
    "  * Average Math Score\n",
    "  * Average Reading Score\n",
    "  * % Passing Math\n",
    "  * % Passing Reading\n",
    "  * % Overall Passing (The percentage of students that passed math **and** reading.)\n",
    "  \n",
    "* Create a dataframe to hold the above results"
   ]
  },
  {
   "cell_type": "code",
   "execution_count": 15,
   "metadata": {},
   "outputs": [],
   "source": [
    "# School Name\n",
    "school_name =  school_data_complete.set_index(\"school_name\").groupby([\"school_name\"])\n"
   ]
  },
  {
   "cell_type": "code",
   "execution_count": 16,
   "metadata": {},
   "outputs": [
    {
     "data": {
      "text/plain": [
       "school_name\n",
       "Huang High School        District\n",
       "Figueroa High School     District\n",
       "Shelton High School       Charter\n",
       "Hernandez High School    District\n",
       "Griffin High School       Charter\n",
       "Wilson High School        Charter\n",
       "Cabrera High School       Charter\n",
       "Bailey High School       District\n",
       "Holden High School        Charter\n",
       "Pena High School          Charter\n",
       "Wright High School        Charter\n",
       "Rodriguez High School    District\n",
       "Johnson High School      District\n",
       "Ford High School         District\n",
       "Thomas High School        Charter\n",
       "Name: type, dtype: object"
      ]
     },
     "execution_count": 16,
     "metadata": {},
     "output_type": "execute_result"
    }
   ],
   "source": [
    "# School Type\n",
    "school_type = school_data.set_index(\"school_name\")[\"type\"]\n",
    "school_type"
   ]
  },
  {
   "cell_type": "code",
   "execution_count": 17,
   "metadata": {},
   "outputs": [
    {
     "data": {
      "text/plain": [
       "school_name\n",
       "Bailey High School       4976\n",
       "Cabrera High School      1858\n",
       "Figueroa High School     2949\n",
       "Ford High School         2739\n",
       "Griffin High School      1468\n",
       "Hernandez High School    4635\n",
       "Holden High School        427\n",
       "Huang High School        2917\n",
       "Johnson High School      4761\n",
       "Pena High School          962\n",
       "Rodriguez High School    3999\n",
       "Shelton High School      1761\n",
       "Thomas High School       1635\n",
       "Wilson High School       2283\n",
       "Wright High School       1800\n",
       "Name: Student ID, dtype: int64"
      ]
     },
     "execution_count": 17,
     "metadata": {},
     "output_type": "execute_result"
    }
   ],
   "source": [
    "# Total Students\n",
    "Total_students = school_name[\"Student ID\"].count()\n",
    "Total_students"
   ]
  },
  {
   "cell_type": "code",
   "execution_count": 18,
   "metadata": {},
   "outputs": [
    {
     "data": {
      "text/plain": [
       "school_name\n",
       "Huang High School        1910635\n",
       "Figueroa High School     1884411\n",
       "Shelton High School      1056600\n",
       "Hernandez High School    3022020\n",
       "Griffin High School       917500\n",
       "Wilson High School       1319574\n",
       "Cabrera High School      1081356\n",
       "Bailey High School       3124928\n",
       "Holden High School        248087\n",
       "Pena High School          585858\n",
       "Wright High School       1049400\n",
       "Rodriguez High School    2547363\n",
       "Johnson High School      3094650\n",
       "Ford High School         1763916\n",
       "Thomas High School       1043130\n",
       "Name: budget, dtype: int64"
      ]
     },
     "execution_count": 18,
     "metadata": {},
     "output_type": "execute_result"
    }
   ],
   "source": [
    "# Total School Budget\n",
    "Total_school_budget =  school_data.set_index(\"school_name\")[\"budget\"]\n",
    "Total_school_budget"
   ]
  },
  {
   "cell_type": "code",
   "execution_count": 19,
   "metadata": {},
   "outputs": [
    {
     "data": {
      "text/plain": [
       "school_name\n",
       "Huang High School        655.0\n",
       "Figueroa High School     639.0\n",
       "Shelton High School      600.0\n",
       "Hernandez High School    652.0\n",
       "Griffin High School      625.0\n",
       "Wilson High School       578.0\n",
       "Cabrera High School      582.0\n",
       "Bailey High School       628.0\n",
       "Holden High School       581.0\n",
       "Pena High School         609.0\n",
       "Wright High School       583.0\n",
       "Rodriguez High School    637.0\n",
       "Johnson High School      650.0\n",
       "Ford High School         644.0\n",
       "Thomas High School       638.0\n",
       "dtype: float64"
      ]
     },
     "execution_count": 19,
     "metadata": {},
     "output_type": "execute_result"
    }
   ],
   "source": [
    "# Per Student Budget\n",
    "budget_per_student =     (school_data.set_index(\"school_name\")[\"budget\"]/school_data.set_index(\"school_name\")[\"size\"])\n",
    "budget_per_student"
   ]
  },
  {
   "cell_type": "code",
   "execution_count": 20,
   "metadata": {},
   "outputs": [
    {
     "data": {
      "text/plain": [
       "school_name\n",
       "Bailey High School       77.048432\n",
       "Cabrera High School      83.061895\n",
       "Figueroa High School     76.711767\n",
       "Ford High School         77.102592\n",
       "Griffin High School      83.351499\n",
       "Hernandez High School    77.289752\n",
       "Holden High School       83.803279\n",
       "Huang High School        76.629414\n",
       "Johnson High School      77.072464\n",
       "Pena High School         83.839917\n",
       "Rodriguez High School    76.842711\n",
       "Shelton High School      83.359455\n",
       "Thomas High School       83.418349\n",
       "Wilson High School       83.274201\n",
       "Wright High School       83.682222\n",
       "Name: math_score, dtype: float64"
      ]
     },
     "execution_count": 20,
     "metadata": {},
     "output_type": "execute_result"
    }
   ],
   "source": [
    "# Average Math Score\n",
    "average_math_score = school_name['math_score'].mean()\n",
    "average_math_score"
   ]
  },
  {
   "cell_type": "code",
   "execution_count": 21,
   "metadata": {},
   "outputs": [
    {
     "data": {
      "text/plain": [
       "school_name\n",
       "Bailey High School       81.033963\n",
       "Cabrera High School      83.975780\n",
       "Figueroa High School     81.158020\n",
       "Ford High School         80.746258\n",
       "Griffin High School      83.816757\n",
       "Hernandez High School    80.934412\n",
       "Holden High School       83.814988\n",
       "Huang High School        81.182722\n",
       "Johnson High School      80.966394\n",
       "Pena High School         84.044699\n",
       "Rodriguez High School    80.744686\n",
       "Shelton High School      83.725724\n",
       "Thomas High School       83.848930\n",
       "Wilson High School       83.989488\n",
       "Wright High School       83.955000\n",
       "Name: reading_score, dtype: float64"
      ]
     },
     "execution_count": 21,
     "metadata": {},
     "output_type": "execute_result"
    }
   ],
   "source": [
    "# Average Reading Score\n",
    "average_reading_score = school_name['reading_score'].mean()\n",
    "average_reading_score"
   ]
  },
  {
   "cell_type": "code",
   "execution_count": 22,
   "metadata": {},
   "outputs": [
    {
     "data": {
      "text/plain": [
       "school_name\n",
       "Bailey High School       8.470768\n",
       "Cabrera High School      4.465152\n",
       "Figueroa High School     4.968088\n",
       "Ford High School         4.776615\n",
       "Griffin High School      3.500128\n",
       "Hernandez High School    7.898902\n",
       "Holden High School       1.008425\n",
       "Huang High School        4.891499\n",
       "Johnson High School      8.029104\n",
       "Pena High School         2.323207\n",
       "Rodriguez High School    6.775594\n",
       "Shelton High School      4.220066\n",
       "Thomas High School       3.893286\n",
       "Wilson High School       5.471024\n",
       "Wright High School       4.288997\n",
       "Name: Student ID, dtype: float64"
      ]
     },
     "execution_count": 22,
     "metadata": {},
     "output_type": "execute_result"
    }
   ],
   "source": [
    "# % Passing Math\n",
    "pass_math_percent = school_data_complete[school_data_complete[\"math_score\"] >= 70].groupby(\"school_name\")[\"Student ID\"].count()/student_count*100\n",
    "pass_math_percent"
   ]
  },
  {
   "cell_type": "code",
   "execution_count": 23,
   "metadata": {},
   "outputs": [
    {
     "data": {
      "text/plain": [
       "school_name\n",
       "Bailey High School       10.408476\n",
       "Cabrera High School       4.603013\n",
       "Figueroa High School      6.078632\n",
       "Ford High School          5.545060\n",
       "Griffin High School       3.640541\n",
       "Hernandez High School     9.568547\n",
       "Holden High School        1.049272\n",
       "Huang High School         6.055655\n",
       "Johnson High School       9.872351\n",
       "Pena High School          2.356395\n",
       "Rodriguez High School     8.189941\n",
       "Shelton High School       4.309420\n",
       "Thomas High School        4.061782\n",
       "Wilson High School        5.626755\n",
       "Wright High School        4.439622\n",
       "Name: Student ID, dtype: float64"
      ]
     },
     "execution_count": 23,
     "metadata": {},
     "output_type": "execute_result"
    }
   ],
   "source": [
    "# % Passing Reading\n",
    "passed_reading = school_data_complete[school_data_complete[\"reading_score\"] >= 70].groupby(\"school_name\")['Student ID'].count()/student_count*100\n",
    "passed_reading"
   ]
  },
  {
   "cell_type": "code",
   "execution_count": 24,
   "metadata": {},
   "outputs": [
    {
     "data": {
      "text/plain": [
       "school_name\n",
       "Bailey High School       6.941537\n",
       "Cabrera High School      4.332397\n",
       "Figueroa High School     4.005617\n",
       "Ford High School         3.796273\n",
       "Griffin High School      3.395456\n",
       "Hernandez High School    6.333929\n",
       "Holden High School       0.972683\n",
       "Huang High School        3.985193\n",
       "Johnson High School      6.507531\n",
       "Pena High School         2.223641\n",
       "Rodriguez High School    5.409752\n",
       "Shelton High School      4.041358\n",
       "Thomas High School       3.796273\n",
       "Wilson High School       5.279551\n",
       "Wright High School       4.151136\n",
       "Name: Student ID, dtype: float64"
      ]
     },
     "execution_count": 24,
     "metadata": {},
     "output_type": "execute_result"
    }
   ],
   "source": [
    "# % Overall Passing (The percentage of students that passed math and reading.)\n",
    "overall_passed = school_data_complete[(school_data_complete[\"reading_score\"] >= 70) & (school_data_complete[\"math_score\"] >= 70)].groupby(\"school_name\")[\"Student ID\"].count()/student_count*100\n",
    "overall_passed\n"
   ]
  },
  {
   "cell_type": "code",
   "execution_count": 25,
   "metadata": {},
   "outputs": [
    {
     "data": {
      "text/html": [
       "<div>\n",
       "<style scoped>\n",
       "    .dataframe tbody tr th:only-of-type {\n",
       "        vertical-align: middle;\n",
       "    }\n",
       "\n",
       "    .dataframe tbody tr th {\n",
       "        vertical-align: top;\n",
       "    }\n",
       "\n",
       "    .dataframe thead th {\n",
       "        text-align: right;\n",
       "    }\n",
       "</style>\n",
       "<table border=\"1\" class=\"dataframe\">\n",
       "  <thead>\n",
       "    <tr style=\"text-align: right;\">\n",
       "      <th></th>\n",
       "      <th>School Type</th>\n",
       "      <th>Total Students</th>\n",
       "      <th>Per Student Budget</th>\n",
       "      <th>Total School Budget</th>\n",
       "      <th>Average Math Score</th>\n",
       "      <th>Average Reading Score</th>\n",
       "      <th>% Passing Math</th>\n",
       "      <th>% Passing Reading</th>\n",
       "      <th>% Overall Passing</th>\n",
       "    </tr>\n",
       "    <tr>\n",
       "      <th>school_name</th>\n",
       "      <th></th>\n",
       "      <th></th>\n",
       "      <th></th>\n",
       "      <th></th>\n",
       "      <th></th>\n",
       "      <th></th>\n",
       "      <th></th>\n",
       "      <th></th>\n",
       "      <th></th>\n",
       "    </tr>\n",
       "  </thead>\n",
       "  <tbody>\n",
       "    <tr>\n",
       "      <th>Bailey High School</th>\n",
       "      <td>District</td>\n",
       "      <td>4976</td>\n",
       "      <td>628.0</td>\n",
       "      <td>3124928</td>\n",
       "      <td>77.048432</td>\n",
       "      <td>81.033963</td>\n",
       "      <td>8.470768</td>\n",
       "      <td>10.408476</td>\n",
       "      <td>6.941537</td>\n",
       "    </tr>\n",
       "    <tr>\n",
       "      <th>Cabrera High School</th>\n",
       "      <td>Charter</td>\n",
       "      <td>1858</td>\n",
       "      <td>582.0</td>\n",
       "      <td>1081356</td>\n",
       "      <td>83.061895</td>\n",
       "      <td>83.975780</td>\n",
       "      <td>4.465152</td>\n",
       "      <td>4.603013</td>\n",
       "      <td>4.332397</td>\n",
       "    </tr>\n",
       "    <tr>\n",
       "      <th>Figueroa High School</th>\n",
       "      <td>District</td>\n",
       "      <td>2949</td>\n",
       "      <td>639.0</td>\n",
       "      <td>1884411</td>\n",
       "      <td>76.711767</td>\n",
       "      <td>81.158020</td>\n",
       "      <td>4.968088</td>\n",
       "      <td>6.078632</td>\n",
       "      <td>4.005617</td>\n",
       "    </tr>\n",
       "    <tr>\n",
       "      <th>Ford High School</th>\n",
       "      <td>District</td>\n",
       "      <td>2739</td>\n",
       "      <td>644.0</td>\n",
       "      <td>1763916</td>\n",
       "      <td>77.102592</td>\n",
       "      <td>80.746258</td>\n",
       "      <td>4.776615</td>\n",
       "      <td>5.545060</td>\n",
       "      <td>3.796273</td>\n",
       "    </tr>\n",
       "    <tr>\n",
       "      <th>Griffin High School</th>\n",
       "      <td>Charter</td>\n",
       "      <td>1468</td>\n",
       "      <td>625.0</td>\n",
       "      <td>917500</td>\n",
       "      <td>83.351499</td>\n",
       "      <td>83.816757</td>\n",
       "      <td>3.500128</td>\n",
       "      <td>3.640541</td>\n",
       "      <td>3.395456</td>\n",
       "    </tr>\n",
       "    <tr>\n",
       "      <th>Hernandez High School</th>\n",
       "      <td>District</td>\n",
       "      <td>4635</td>\n",
       "      <td>652.0</td>\n",
       "      <td>3022020</td>\n",
       "      <td>77.289752</td>\n",
       "      <td>80.934412</td>\n",
       "      <td>7.898902</td>\n",
       "      <td>9.568547</td>\n",
       "      <td>6.333929</td>\n",
       "    </tr>\n",
       "    <tr>\n",
       "      <th>Holden High School</th>\n",
       "      <td>Charter</td>\n",
       "      <td>427</td>\n",
       "      <td>581.0</td>\n",
       "      <td>248087</td>\n",
       "      <td>83.803279</td>\n",
       "      <td>83.814988</td>\n",
       "      <td>1.008425</td>\n",
       "      <td>1.049272</td>\n",
       "      <td>0.972683</td>\n",
       "    </tr>\n",
       "    <tr>\n",
       "      <th>Huang High School</th>\n",
       "      <td>District</td>\n",
       "      <td>2917</td>\n",
       "      <td>655.0</td>\n",
       "      <td>1910635</td>\n",
       "      <td>76.629414</td>\n",
       "      <td>81.182722</td>\n",
       "      <td>4.891499</td>\n",
       "      <td>6.055655</td>\n",
       "      <td>3.985193</td>\n",
       "    </tr>\n",
       "    <tr>\n",
       "      <th>Johnson High School</th>\n",
       "      <td>District</td>\n",
       "      <td>4761</td>\n",
       "      <td>650.0</td>\n",
       "      <td>3094650</td>\n",
       "      <td>77.072464</td>\n",
       "      <td>80.966394</td>\n",
       "      <td>8.029104</td>\n",
       "      <td>9.872351</td>\n",
       "      <td>6.507531</td>\n",
       "    </tr>\n",
       "    <tr>\n",
       "      <th>Pena High School</th>\n",
       "      <td>Charter</td>\n",
       "      <td>962</td>\n",
       "      <td>609.0</td>\n",
       "      <td>585858</td>\n",
       "      <td>83.839917</td>\n",
       "      <td>84.044699</td>\n",
       "      <td>2.323207</td>\n",
       "      <td>2.356395</td>\n",
       "      <td>2.223641</td>\n",
       "    </tr>\n",
       "    <tr>\n",
       "      <th>Rodriguez High School</th>\n",
       "      <td>District</td>\n",
       "      <td>3999</td>\n",
       "      <td>637.0</td>\n",
       "      <td>2547363</td>\n",
       "      <td>76.842711</td>\n",
       "      <td>80.744686</td>\n",
       "      <td>6.775594</td>\n",
       "      <td>8.189941</td>\n",
       "      <td>5.409752</td>\n",
       "    </tr>\n",
       "    <tr>\n",
       "      <th>Shelton High School</th>\n",
       "      <td>Charter</td>\n",
       "      <td>1761</td>\n",
       "      <td>600.0</td>\n",
       "      <td>1056600</td>\n",
       "      <td>83.359455</td>\n",
       "      <td>83.725724</td>\n",
       "      <td>4.220066</td>\n",
       "      <td>4.309420</td>\n",
       "      <td>4.041358</td>\n",
       "    </tr>\n",
       "    <tr>\n",
       "      <th>Thomas High School</th>\n",
       "      <td>Charter</td>\n",
       "      <td>1635</td>\n",
       "      <td>638.0</td>\n",
       "      <td>1043130</td>\n",
       "      <td>83.418349</td>\n",
       "      <td>83.848930</td>\n",
       "      <td>3.893286</td>\n",
       "      <td>4.061782</td>\n",
       "      <td>3.796273</td>\n",
       "    </tr>\n",
       "    <tr>\n",
       "      <th>Wilson High School</th>\n",
       "      <td>Charter</td>\n",
       "      <td>2283</td>\n",
       "      <td>578.0</td>\n",
       "      <td>1319574</td>\n",
       "      <td>83.274201</td>\n",
       "      <td>83.989488</td>\n",
       "      <td>5.471024</td>\n",
       "      <td>5.626755</td>\n",
       "      <td>5.279551</td>\n",
       "    </tr>\n",
       "    <tr>\n",
       "      <th>Wright High School</th>\n",
       "      <td>Charter</td>\n",
       "      <td>1800</td>\n",
       "      <td>583.0</td>\n",
       "      <td>1049400</td>\n",
       "      <td>83.682222</td>\n",
       "      <td>83.955000</td>\n",
       "      <td>4.288997</td>\n",
       "      <td>4.439622</td>\n",
       "      <td>4.151136</td>\n",
       "    </tr>\n",
       "  </tbody>\n",
       "</table>\n",
       "</div>"
      ],
      "text/plain": [
       "                      School Type  Total Students  Per Student Budget  \\\n",
       "school_name                                                             \n",
       "Bailey High School       District            4976               628.0   \n",
       "Cabrera High School       Charter            1858               582.0   \n",
       "Figueroa High School     District            2949               639.0   \n",
       "Ford High School         District            2739               644.0   \n",
       "Griffin High School       Charter            1468               625.0   \n",
       "Hernandez High School    District            4635               652.0   \n",
       "Holden High School        Charter             427               581.0   \n",
       "Huang High School        District            2917               655.0   \n",
       "Johnson High School      District            4761               650.0   \n",
       "Pena High School          Charter             962               609.0   \n",
       "Rodriguez High School    District            3999               637.0   \n",
       "Shelton High School       Charter            1761               600.0   \n",
       "Thomas High School        Charter            1635               638.0   \n",
       "Wilson High School        Charter            2283               578.0   \n",
       "Wright High School        Charter            1800               583.0   \n",
       "\n",
       "                       Total School Budget  Average Math Score  \\\n",
       "school_name                                                      \n",
       "Bailey High School                 3124928           77.048432   \n",
       "Cabrera High School                1081356           83.061895   \n",
       "Figueroa High School               1884411           76.711767   \n",
       "Ford High School                   1763916           77.102592   \n",
       "Griffin High School                 917500           83.351499   \n",
       "Hernandez High School              3022020           77.289752   \n",
       "Holden High School                  248087           83.803279   \n",
       "Huang High School                  1910635           76.629414   \n",
       "Johnson High School                3094650           77.072464   \n",
       "Pena High School                    585858           83.839917   \n",
       "Rodriguez High School              2547363           76.842711   \n",
       "Shelton High School                1056600           83.359455   \n",
       "Thomas High School                 1043130           83.418349   \n",
       "Wilson High School                 1319574           83.274201   \n",
       "Wright High School                 1049400           83.682222   \n",
       "\n",
       "                       Average Reading Score  % Passing Math  \\\n",
       "school_name                                                    \n",
       "Bailey High School                 81.033963        8.470768   \n",
       "Cabrera High School                83.975780        4.465152   \n",
       "Figueroa High School               81.158020        4.968088   \n",
       "Ford High School                   80.746258        4.776615   \n",
       "Griffin High School                83.816757        3.500128   \n",
       "Hernandez High School              80.934412        7.898902   \n",
       "Holden High School                 83.814988        1.008425   \n",
       "Huang High School                  81.182722        4.891499   \n",
       "Johnson High School                80.966394        8.029104   \n",
       "Pena High School                   84.044699        2.323207   \n",
       "Rodriguez High School              80.744686        6.775594   \n",
       "Shelton High School                83.725724        4.220066   \n",
       "Thomas High School                 83.848930        3.893286   \n",
       "Wilson High School                 83.989488        5.471024   \n",
       "Wright High School                 83.955000        4.288997   \n",
       "\n",
       "                       % Passing Reading  % Overall Passing  \n",
       "school_name                                                  \n",
       "Bailey High School             10.408476           6.941537  \n",
       "Cabrera High School             4.603013           4.332397  \n",
       "Figueroa High School            6.078632           4.005617  \n",
       "Ford High School                5.545060           3.796273  \n",
       "Griffin High School             3.640541           3.395456  \n",
       "Hernandez High School           9.568547           6.333929  \n",
       "Holden High School              1.049272           0.972683  \n",
       "Huang High School               6.055655           3.985193  \n",
       "Johnson High School             9.872351           6.507531  \n",
       "Pena High School                2.356395           2.223641  \n",
       "Rodriguez High School           8.189941           5.409752  \n",
       "Shelton High School             4.309420           4.041358  \n",
       "Thomas High School              4.061782           3.796273  \n",
       "Wilson High School              5.626755           5.279551  \n",
       "Wright High School              4.439622           4.151136  "
      ]
     },
     "execution_count": 25,
     "metadata": {},
     "output_type": "execute_result"
    }
   ],
   "source": [
    "# Create a dataframe to hold the above results\n",
    "school_summary = pd.DataFrame({\n",
    "    \"School Type\": school_type,\n",
    "    \"Total Students\": Total_students,\n",
    "    \"Per Student Budget\": budget_per_student,\n",
    "    \"Total School Budget\": Total_school_budget,\n",
    "    \"Average Math Score\": average_math_score,\n",
    "    \"Average Reading Score\": average_reading_score,\n",
    "    '% Passing Math': pass_math_percent,\n",
    "    '% Passing Reading': passed_reading,\n",
    "    \"% Overall Passing\": overall_passed\n",
    "})\n",
    "\n",
    "school_summary\n"
   ]
  },
  {
   "cell_type": "markdown",
   "metadata": {},
   "source": [
    "## Top Performing Schools (By % Overall Passing)"
   ]
  },
  {
   "cell_type": "markdown",
   "metadata": {},
   "source": [
    "* Sort and display the top five performing schools by % overall passing."
   ]
  },
  {
   "cell_type": "code",
   "execution_count": 26,
   "metadata": {
    "scrolled": true
   },
   "outputs": [
    {
     "data": {
      "text/html": [
       "<style type=\"text/css\">\n",
       "</style>\n",
       "<table id=\"T_c3604\">\n",
       "  <thead>\n",
       "    <tr>\n",
       "      <th class=\"blank level0\" >&nbsp;</th>\n",
       "      <th id=\"T_c3604_level0_col0\" class=\"col_heading level0 col0\" >School Type</th>\n",
       "      <th id=\"T_c3604_level0_col1\" class=\"col_heading level0 col1\" >Total Students</th>\n",
       "      <th id=\"T_c3604_level0_col2\" class=\"col_heading level0 col2\" >Per Student Budget</th>\n",
       "      <th id=\"T_c3604_level0_col3\" class=\"col_heading level0 col3\" >Total School Budget</th>\n",
       "      <th id=\"T_c3604_level0_col4\" class=\"col_heading level0 col4\" >Average Math Score</th>\n",
       "      <th id=\"T_c3604_level0_col5\" class=\"col_heading level0 col5\" >Average Reading Score</th>\n",
       "      <th id=\"T_c3604_level0_col6\" class=\"col_heading level0 col6\" >% Passing Math</th>\n",
       "      <th id=\"T_c3604_level0_col7\" class=\"col_heading level0 col7\" >% Passing Reading</th>\n",
       "      <th id=\"T_c3604_level0_col8\" class=\"col_heading level0 col8\" >% Overall Passing</th>\n",
       "    </tr>\n",
       "    <tr>\n",
       "      <th class=\"index_name level0\" >school_name</th>\n",
       "      <th class=\"blank col0\" >&nbsp;</th>\n",
       "      <th class=\"blank col1\" >&nbsp;</th>\n",
       "      <th class=\"blank col2\" >&nbsp;</th>\n",
       "      <th class=\"blank col3\" >&nbsp;</th>\n",
       "      <th class=\"blank col4\" >&nbsp;</th>\n",
       "      <th class=\"blank col5\" >&nbsp;</th>\n",
       "      <th class=\"blank col6\" >&nbsp;</th>\n",
       "      <th class=\"blank col7\" >&nbsp;</th>\n",
       "      <th class=\"blank col8\" >&nbsp;</th>\n",
       "    </tr>\n",
       "  </thead>\n",
       "  <tbody>\n",
       "    <tr>\n",
       "      <th id=\"T_c3604_level0_row0\" class=\"row_heading level0 row0\" >Bailey High School</th>\n",
       "      <td id=\"T_c3604_row0_col0\" class=\"data row0 col0\" >District</td>\n",
       "      <td id=\"T_c3604_row0_col1\" class=\"data row0 col1\" >4976</td>\n",
       "      <td id=\"T_c3604_row0_col2\" class=\"data row0 col2\" >$628.00</td>\n",
       "      <td id=\"T_c3604_row0_col3\" class=\"data row0 col3\" >$3,124,928.00</td>\n",
       "      <td id=\"T_c3604_row0_col4\" class=\"data row0 col4\" >77.048432</td>\n",
       "      <td id=\"T_c3604_row0_col5\" class=\"data row0 col5\" >81.033963</td>\n",
       "      <td id=\"T_c3604_row0_col6\" class=\"data row0 col6\" >8.470768</td>\n",
       "      <td id=\"T_c3604_row0_col7\" class=\"data row0 col7\" >10.408476</td>\n",
       "      <td id=\"T_c3604_row0_col8\" class=\"data row0 col8\" >6.941537</td>\n",
       "    </tr>\n",
       "    <tr>\n",
       "      <th id=\"T_c3604_level0_row1\" class=\"row_heading level0 row1\" >Johnson High School</th>\n",
       "      <td id=\"T_c3604_row1_col0\" class=\"data row1 col0\" >District</td>\n",
       "      <td id=\"T_c3604_row1_col1\" class=\"data row1 col1\" >4761</td>\n",
       "      <td id=\"T_c3604_row1_col2\" class=\"data row1 col2\" >$650.00</td>\n",
       "      <td id=\"T_c3604_row1_col3\" class=\"data row1 col3\" >$3,094,650.00</td>\n",
       "      <td id=\"T_c3604_row1_col4\" class=\"data row1 col4\" >77.072464</td>\n",
       "      <td id=\"T_c3604_row1_col5\" class=\"data row1 col5\" >80.966394</td>\n",
       "      <td id=\"T_c3604_row1_col6\" class=\"data row1 col6\" >8.029104</td>\n",
       "      <td id=\"T_c3604_row1_col7\" class=\"data row1 col7\" >9.872351</td>\n",
       "      <td id=\"T_c3604_row1_col8\" class=\"data row1 col8\" >6.507531</td>\n",
       "    </tr>\n",
       "    <tr>\n",
       "      <th id=\"T_c3604_level0_row2\" class=\"row_heading level0 row2\" >Hernandez High School</th>\n",
       "      <td id=\"T_c3604_row2_col0\" class=\"data row2 col0\" >District</td>\n",
       "      <td id=\"T_c3604_row2_col1\" class=\"data row2 col1\" >4635</td>\n",
       "      <td id=\"T_c3604_row2_col2\" class=\"data row2 col2\" >$652.00</td>\n",
       "      <td id=\"T_c3604_row2_col3\" class=\"data row2 col3\" >$3,022,020.00</td>\n",
       "      <td id=\"T_c3604_row2_col4\" class=\"data row2 col4\" >77.289752</td>\n",
       "      <td id=\"T_c3604_row2_col5\" class=\"data row2 col5\" >80.934412</td>\n",
       "      <td id=\"T_c3604_row2_col6\" class=\"data row2 col6\" >7.898902</td>\n",
       "      <td id=\"T_c3604_row2_col7\" class=\"data row2 col7\" >9.568547</td>\n",
       "      <td id=\"T_c3604_row2_col8\" class=\"data row2 col8\" >6.333929</td>\n",
       "    </tr>\n",
       "    <tr>\n",
       "      <th id=\"T_c3604_level0_row3\" class=\"row_heading level0 row3\" >Rodriguez High School</th>\n",
       "      <td id=\"T_c3604_row3_col0\" class=\"data row3 col0\" >District</td>\n",
       "      <td id=\"T_c3604_row3_col1\" class=\"data row3 col1\" >3999</td>\n",
       "      <td id=\"T_c3604_row3_col2\" class=\"data row3 col2\" >$637.00</td>\n",
       "      <td id=\"T_c3604_row3_col3\" class=\"data row3 col3\" >$2,547,363.00</td>\n",
       "      <td id=\"T_c3604_row3_col4\" class=\"data row3 col4\" >76.842711</td>\n",
       "      <td id=\"T_c3604_row3_col5\" class=\"data row3 col5\" >80.744686</td>\n",
       "      <td id=\"T_c3604_row3_col6\" class=\"data row3 col6\" >6.775594</td>\n",
       "      <td id=\"T_c3604_row3_col7\" class=\"data row3 col7\" >8.189941</td>\n",
       "      <td id=\"T_c3604_row3_col8\" class=\"data row3 col8\" >5.409752</td>\n",
       "    </tr>\n",
       "    <tr>\n",
       "      <th id=\"T_c3604_level0_row4\" class=\"row_heading level0 row4\" >Wilson High School</th>\n",
       "      <td id=\"T_c3604_row4_col0\" class=\"data row4 col0\" >Charter</td>\n",
       "      <td id=\"T_c3604_row4_col1\" class=\"data row4 col1\" >2283</td>\n",
       "      <td id=\"T_c3604_row4_col2\" class=\"data row4 col2\" >$578.00</td>\n",
       "      <td id=\"T_c3604_row4_col3\" class=\"data row4 col3\" >$1,319,574.00</td>\n",
       "      <td id=\"T_c3604_row4_col4\" class=\"data row4 col4\" >83.274201</td>\n",
       "      <td id=\"T_c3604_row4_col5\" class=\"data row4 col5\" >83.989488</td>\n",
       "      <td id=\"T_c3604_row4_col6\" class=\"data row4 col6\" >5.471024</td>\n",
       "      <td id=\"T_c3604_row4_col7\" class=\"data row4 col7\" >5.626755</td>\n",
       "      <td id=\"T_c3604_row4_col8\" class=\"data row4 col8\" >5.279551</td>\n",
       "    </tr>\n",
       "  </tbody>\n",
       "</table>\n"
      ],
      "text/plain": [
       "<pandas.io.formats.style.Styler at 0x7fe259b47af0>"
      ]
     },
     "execution_count": 26,
     "metadata": {},
     "output_type": "execute_result"
    }
   ],
   "source": [
    "#Sort and display the top five performing schools by % overall passing.\n",
    "top_perform = school_summary.sort_values(\"% Overall Passing\", ascending = False)\n",
    "top_perform.head().style.format({'Total Students': '{:}',\n",
    "                           \"Total School Budget\": \"${:,.2f}\", \n",
    "                           \"Per Student Budget\": \"${:.2f}\", \n",
    "                           \"% Passing Math\": \"{:6f}\", \n",
    "                           \"% Passing Reading\": \"{:6f}\", \n",
    "                           \"% Overall Passing\": \"{:6f}\"})\n"
   ]
  },
  {
   "cell_type": "markdown",
   "metadata": {},
   "source": [
    "## Bottom Performing Schools (By % Overall Passing)"
   ]
  },
  {
   "cell_type": "markdown",
   "metadata": {},
   "source": [
    "* Sort and display the five worst-performing schools by % overall passing."
   ]
  },
  {
   "cell_type": "code",
   "execution_count": 27,
   "metadata": {},
   "outputs": [
    {
     "data": {
      "text/html": [
       "<style type=\"text/css\">\n",
       "</style>\n",
       "<table id=\"T_928d3\">\n",
       "  <thead>\n",
       "    <tr>\n",
       "      <th class=\"blank level0\" >&nbsp;</th>\n",
       "      <th id=\"T_928d3_level0_col0\" class=\"col_heading level0 col0\" >School Type</th>\n",
       "      <th id=\"T_928d3_level0_col1\" class=\"col_heading level0 col1\" >Total Students</th>\n",
       "      <th id=\"T_928d3_level0_col2\" class=\"col_heading level0 col2\" >Per Student Budget</th>\n",
       "      <th id=\"T_928d3_level0_col3\" class=\"col_heading level0 col3\" >Total School Budget</th>\n",
       "      <th id=\"T_928d3_level0_col4\" class=\"col_heading level0 col4\" >Average Math Score</th>\n",
       "      <th id=\"T_928d3_level0_col5\" class=\"col_heading level0 col5\" >Average Reading Score</th>\n",
       "      <th id=\"T_928d3_level0_col6\" class=\"col_heading level0 col6\" >% Passing Math</th>\n",
       "      <th id=\"T_928d3_level0_col7\" class=\"col_heading level0 col7\" >% Passing Reading</th>\n",
       "      <th id=\"T_928d3_level0_col8\" class=\"col_heading level0 col8\" >% Overall Passing</th>\n",
       "    </tr>\n",
       "    <tr>\n",
       "      <th class=\"index_name level0\" >school_name</th>\n",
       "      <th class=\"blank col0\" >&nbsp;</th>\n",
       "      <th class=\"blank col1\" >&nbsp;</th>\n",
       "      <th class=\"blank col2\" >&nbsp;</th>\n",
       "      <th class=\"blank col3\" >&nbsp;</th>\n",
       "      <th class=\"blank col4\" >&nbsp;</th>\n",
       "      <th class=\"blank col5\" >&nbsp;</th>\n",
       "      <th class=\"blank col6\" >&nbsp;</th>\n",
       "      <th class=\"blank col7\" >&nbsp;</th>\n",
       "      <th class=\"blank col8\" >&nbsp;</th>\n",
       "    </tr>\n",
       "  </thead>\n",
       "  <tbody>\n",
       "    <tr>\n",
       "      <th id=\"T_928d3_level0_row0\" class=\"row_heading level0 row0\" >Holden High School</th>\n",
       "      <td id=\"T_928d3_row0_col0\" class=\"data row0 col0\" >Charter</td>\n",
       "      <td id=\"T_928d3_row0_col1\" class=\"data row0 col1\" > 427</td>\n",
       "      <td id=\"T_928d3_row0_col2\" class=\"data row0 col2\" >$581.00</td>\n",
       "      <td id=\"T_928d3_row0_col3\" class=\"data row0 col3\" >$248,087.00</td>\n",
       "      <td id=\"T_928d3_row0_col4\" class=\"data row0 col4\" >83.803279</td>\n",
       "      <td id=\"T_928d3_row0_col5\" class=\"data row0 col5\" >83.814988</td>\n",
       "      <td id=\"T_928d3_row0_col6\" class=\"data row0 col6\" >1.008425</td>\n",
       "      <td id=\"T_928d3_row0_col7\" class=\"data row0 col7\" >1.049272</td>\n",
       "      <td id=\"T_928d3_row0_col8\" class=\"data row0 col8\" >0.972683</td>\n",
       "    </tr>\n",
       "    <tr>\n",
       "      <th id=\"T_928d3_level0_row1\" class=\"row_heading level0 row1\" >Pena High School</th>\n",
       "      <td id=\"T_928d3_row1_col0\" class=\"data row1 col0\" >Charter</td>\n",
       "      <td id=\"T_928d3_row1_col1\" class=\"data row1 col1\" > 962</td>\n",
       "      <td id=\"T_928d3_row1_col2\" class=\"data row1 col2\" >$609.00</td>\n",
       "      <td id=\"T_928d3_row1_col3\" class=\"data row1 col3\" >$585,858.00</td>\n",
       "      <td id=\"T_928d3_row1_col4\" class=\"data row1 col4\" >83.839917</td>\n",
       "      <td id=\"T_928d3_row1_col5\" class=\"data row1 col5\" >84.044699</td>\n",
       "      <td id=\"T_928d3_row1_col6\" class=\"data row1 col6\" >2.323207</td>\n",
       "      <td id=\"T_928d3_row1_col7\" class=\"data row1 col7\" >2.356395</td>\n",
       "      <td id=\"T_928d3_row1_col8\" class=\"data row1 col8\" >2.223641</td>\n",
       "    </tr>\n",
       "    <tr>\n",
       "      <th id=\"T_928d3_level0_row2\" class=\"row_heading level0 row2\" >Griffin High School</th>\n",
       "      <td id=\"T_928d3_row2_col0\" class=\"data row2 col0\" >Charter</td>\n",
       "      <td id=\"T_928d3_row2_col1\" class=\"data row2 col1\" > 1468</td>\n",
       "      <td id=\"T_928d3_row2_col2\" class=\"data row2 col2\" >$625.00</td>\n",
       "      <td id=\"T_928d3_row2_col3\" class=\"data row2 col3\" >$917,500.00</td>\n",
       "      <td id=\"T_928d3_row2_col4\" class=\"data row2 col4\" >83.351499</td>\n",
       "      <td id=\"T_928d3_row2_col5\" class=\"data row2 col5\" >83.816757</td>\n",
       "      <td id=\"T_928d3_row2_col6\" class=\"data row2 col6\" >3.500128</td>\n",
       "      <td id=\"T_928d3_row2_col7\" class=\"data row2 col7\" >3.640541</td>\n",
       "      <td id=\"T_928d3_row2_col8\" class=\"data row2 col8\" >3.395456</td>\n",
       "    </tr>\n",
       "    <tr>\n",
       "      <th id=\"T_928d3_level0_row3\" class=\"row_heading level0 row3\" >Ford High School</th>\n",
       "      <td id=\"T_928d3_row3_col0\" class=\"data row3 col0\" >District</td>\n",
       "      <td id=\"T_928d3_row3_col1\" class=\"data row3 col1\" > 2739</td>\n",
       "      <td id=\"T_928d3_row3_col2\" class=\"data row3 col2\" >$644.00</td>\n",
       "      <td id=\"T_928d3_row3_col3\" class=\"data row3 col3\" >$1,763,916.00</td>\n",
       "      <td id=\"T_928d3_row3_col4\" class=\"data row3 col4\" >77.102592</td>\n",
       "      <td id=\"T_928d3_row3_col5\" class=\"data row3 col5\" >80.746258</td>\n",
       "      <td id=\"T_928d3_row3_col6\" class=\"data row3 col6\" >4.776615</td>\n",
       "      <td id=\"T_928d3_row3_col7\" class=\"data row3 col7\" >5.545060</td>\n",
       "      <td id=\"T_928d3_row3_col8\" class=\"data row3 col8\" >3.796273</td>\n",
       "    </tr>\n",
       "    <tr>\n",
       "      <th id=\"T_928d3_level0_row4\" class=\"row_heading level0 row4\" >Thomas High School</th>\n",
       "      <td id=\"T_928d3_row4_col0\" class=\"data row4 col0\" >Charter</td>\n",
       "      <td id=\"T_928d3_row4_col1\" class=\"data row4 col1\" > 1635</td>\n",
       "      <td id=\"T_928d3_row4_col2\" class=\"data row4 col2\" >$638.00</td>\n",
       "      <td id=\"T_928d3_row4_col3\" class=\"data row4 col3\" >$1,043,130.00</td>\n",
       "      <td id=\"T_928d3_row4_col4\" class=\"data row4 col4\" >83.418349</td>\n",
       "      <td id=\"T_928d3_row4_col5\" class=\"data row4 col5\" >83.848930</td>\n",
       "      <td id=\"T_928d3_row4_col6\" class=\"data row4 col6\" >3.893286</td>\n",
       "      <td id=\"T_928d3_row4_col7\" class=\"data row4 col7\" >4.061782</td>\n",
       "      <td id=\"T_928d3_row4_col8\" class=\"data row4 col8\" >3.796273</td>\n",
       "    </tr>\n",
       "  </tbody>\n",
       "</table>\n"
      ],
      "text/plain": [
       "<pandas.io.formats.style.Styler at 0x7fe25bb05b80>"
      ]
     },
     "execution_count": 27,
     "metadata": {},
     "output_type": "execute_result"
    }
   ],
   "source": [
    "#Sort and display the five worst-performing schools by % overall passing\n",
    "bottom_perform = top_perform.tail()\n",
    "bottom_perform = bottom_perform.sort_values('% Overall Passing')\n",
    "bottom_perform.style.format({'Total Students': '{: }', \n",
    "                       \"Total School Budget\": \"${:,.2f}\", \n",
    "                       \"Per Student Budget\": \"${:.2f}\", \n",
    "                       \"% Passing Math\": \"{:6f}\", \n",
    "                       \"% Passing Reading\": \"{:6f}\", \n",
    "                       \"% Overall Passing\": \"{:6f}\"})"
   ]
  },
  {
   "cell_type": "markdown",
   "metadata": {
    "collapsed": true
   },
   "source": [
    "## Math Scores by Grade"
   ]
  },
  {
   "cell_type": "markdown",
   "metadata": {},
   "source": [
    "* Create a table that lists the average Reading Score for students of each grade level (9th, 10th, 11th, 12th) at each school.\n",
    "\n",
    "  * Create a pandas series for each grade. Hint: use a conditional statement.\n",
    "  \n",
    "  * Group each series by school\n",
    "  \n",
    "  * Combine the series into a dataframe\n",
    "  \n",
    "  * Optional: give the displayed data cleaner formatting"
   ]
  },
  {
   "cell_type": "code",
   "execution_count": 28,
   "metadata": {},
   "outputs": [
    {
     "data": {
      "text/html": [
       "<style type=\"text/css\">\n",
       "</style>\n",
       "<table id=\"T_2af18\">\n",
       "  <thead>\n",
       "    <tr>\n",
       "      <th class=\"blank level0\" >&nbsp;</th>\n",
       "      <th id=\"T_2af18_level0_col0\" class=\"col_heading level0 col0\" >9th</th>\n",
       "      <th id=\"T_2af18_level0_col1\" class=\"col_heading level0 col1\" >10th</th>\n",
       "      <th id=\"T_2af18_level0_col2\" class=\"col_heading level0 col2\" >11th</th>\n",
       "      <th id=\"T_2af18_level0_col3\" class=\"col_heading level0 col3\" >12th</th>\n",
       "    </tr>\n",
       "    <tr>\n",
       "      <th class=\"index_name level0\" >School Name</th>\n",
       "      <th class=\"blank col0\" >&nbsp;</th>\n",
       "      <th class=\"blank col1\" >&nbsp;</th>\n",
       "      <th class=\"blank col2\" >&nbsp;</th>\n",
       "      <th class=\"blank col3\" >&nbsp;</th>\n",
       "    </tr>\n",
       "  </thead>\n",
       "  <tbody>\n",
       "    <tr>\n",
       "      <th id=\"T_2af18_level0_row0\" class=\"row_heading level0 row0\" >Bailey High School</th>\n",
       "      <td id=\"T_2af18_row0_col0\" class=\"data row0 col0\" >77.083676</td>\n",
       "      <td id=\"T_2af18_row0_col1\" class=\"data row0 col1\" >76.996772</td>\n",
       "      <td id=\"T_2af18_row0_col2\" class=\"data row0 col2\" >77.515588</td>\n",
       "      <td id=\"T_2af18_row0_col3\" class=\"data row0 col3\" >76.492218</td>\n",
       "    </tr>\n",
       "    <tr>\n",
       "      <th id=\"T_2af18_level0_row1\" class=\"row_heading level0 row1\" >Cabrera High School</th>\n",
       "      <td id=\"T_2af18_row1_col0\" class=\"data row1 col0\" >83.094697</td>\n",
       "      <td id=\"T_2af18_row1_col1\" class=\"data row1 col1\" >83.154506</td>\n",
       "      <td id=\"T_2af18_row1_col2\" class=\"data row1 col2\" >82.765560</td>\n",
       "      <td id=\"T_2af18_row1_col3\" class=\"data row1 col3\" >83.277487</td>\n",
       "    </tr>\n",
       "    <tr>\n",
       "      <th id=\"T_2af18_level0_row2\" class=\"row_heading level0 row2\" >Figueroa High School</th>\n",
       "      <td id=\"T_2af18_row2_col0\" class=\"data row2 col0\" >76.403037</td>\n",
       "      <td id=\"T_2af18_row2_col1\" class=\"data row2 col1\" >76.539974</td>\n",
       "      <td id=\"T_2af18_row2_col2\" class=\"data row2 col2\" >76.884344</td>\n",
       "      <td id=\"T_2af18_row2_col3\" class=\"data row2 col3\" >77.151369</td>\n",
       "    </tr>\n",
       "    <tr>\n",
       "      <th id=\"T_2af18_level0_row3\" class=\"row_heading level0 row3\" >Ford High School</th>\n",
       "      <td id=\"T_2af18_row3_col0\" class=\"data row3 col0\" >77.361345</td>\n",
       "      <td id=\"T_2af18_row3_col1\" class=\"data row3 col1\" >77.672316</td>\n",
       "      <td id=\"T_2af18_row3_col2\" class=\"data row3 col2\" >76.918058</td>\n",
       "      <td id=\"T_2af18_row3_col3\" class=\"data row3 col3\" >76.179963</td>\n",
       "    </tr>\n",
       "    <tr>\n",
       "      <th id=\"T_2af18_level0_row4\" class=\"row_heading level0 row4\" >Griffin High School</th>\n",
       "      <td id=\"T_2af18_row4_col0\" class=\"data row4 col0\" >82.044010</td>\n",
       "      <td id=\"T_2af18_row4_col1\" class=\"data row4 col1\" >84.229064</td>\n",
       "      <td id=\"T_2af18_row4_col2\" class=\"data row4 col2\" >83.842105</td>\n",
       "      <td id=\"T_2af18_row4_col3\" class=\"data row4 col3\" >83.356164</td>\n",
       "    </tr>\n",
       "    <tr>\n",
       "      <th id=\"T_2af18_level0_row5\" class=\"row_heading level0 row5\" >Hernandez High School</th>\n",
       "      <td id=\"T_2af18_row5_col0\" class=\"data row5 col0\" >77.438495</td>\n",
       "      <td id=\"T_2af18_row5_col1\" class=\"data row5 col1\" >77.337408</td>\n",
       "      <td id=\"T_2af18_row5_col2\" class=\"data row5 col2\" >77.136029</td>\n",
       "      <td id=\"T_2af18_row5_col3\" class=\"data row5 col3\" >77.186567</td>\n",
       "    </tr>\n",
       "    <tr>\n",
       "      <th id=\"T_2af18_level0_row6\" class=\"row_heading level0 row6\" >Holden High School</th>\n",
       "      <td id=\"T_2af18_row6_col0\" class=\"data row6 col0\" >83.787402</td>\n",
       "      <td id=\"T_2af18_row6_col1\" class=\"data row6 col1\" >83.429825</td>\n",
       "      <td id=\"T_2af18_row6_col2\" class=\"data row6 col2\" >85.000000</td>\n",
       "      <td id=\"T_2af18_row6_col3\" class=\"data row6 col3\" >82.855422</td>\n",
       "    </tr>\n",
       "    <tr>\n",
       "      <th id=\"T_2af18_level0_row7\" class=\"row_heading level0 row7\" >Huang High School</th>\n",
       "      <td id=\"T_2af18_row7_col0\" class=\"data row7 col0\" >77.027251</td>\n",
       "      <td id=\"T_2af18_row7_col1\" class=\"data row7 col1\" >75.908735</td>\n",
       "      <td id=\"T_2af18_row7_col2\" class=\"data row7 col2\" >76.446602</td>\n",
       "      <td id=\"T_2af18_row7_col3\" class=\"data row7 col3\" >77.225641</td>\n",
       "    </tr>\n",
       "    <tr>\n",
       "      <th id=\"T_2af18_level0_row8\" class=\"row_heading level0 row8\" >Johnson High School</th>\n",
       "      <td id=\"T_2af18_row8_col0\" class=\"data row8 col0\" >77.187857</td>\n",
       "      <td id=\"T_2af18_row8_col1\" class=\"data row8 col1\" >76.691117</td>\n",
       "      <td id=\"T_2af18_row8_col2\" class=\"data row8 col2\" >77.491653</td>\n",
       "      <td id=\"T_2af18_row8_col3\" class=\"data row8 col3\" >76.863248</td>\n",
       "    </tr>\n",
       "    <tr>\n",
       "      <th id=\"T_2af18_level0_row9\" class=\"row_heading level0 row9\" >Pena High School</th>\n",
       "      <td id=\"T_2af18_row9_col0\" class=\"data row9 col0\" >83.625455</td>\n",
       "      <td id=\"T_2af18_row9_col1\" class=\"data row9 col1\" >83.372000</td>\n",
       "      <td id=\"T_2af18_row9_col2\" class=\"data row9 col2\" >84.328125</td>\n",
       "      <td id=\"T_2af18_row9_col3\" class=\"data row9 col3\" >84.121547</td>\n",
       "    </tr>\n",
       "    <tr>\n",
       "      <th id=\"T_2af18_level0_row10\" class=\"row_heading level0 row10\" >Rodriguez High School</th>\n",
       "      <td id=\"T_2af18_row10_col0\" class=\"data row10 col0\" >76.859966</td>\n",
       "      <td id=\"T_2af18_row10_col1\" class=\"data row10 col1\" >76.612500</td>\n",
       "      <td id=\"T_2af18_row10_col2\" class=\"data row10 col2\" >76.395626</td>\n",
       "      <td id=\"T_2af18_row10_col3\" class=\"data row10 col3\" >77.690748</td>\n",
       "    </tr>\n",
       "    <tr>\n",
       "      <th id=\"T_2af18_level0_row11\" class=\"row_heading level0 row11\" >Shelton High School</th>\n",
       "      <td id=\"T_2af18_row11_col0\" class=\"data row11 col0\" >83.420755</td>\n",
       "      <td id=\"T_2af18_row11_col1\" class=\"data row11 col1\" >82.917411</td>\n",
       "      <td id=\"T_2af18_row11_col2\" class=\"data row11 col2\" >83.383495</td>\n",
       "      <td id=\"T_2af18_row11_col3\" class=\"data row11 col3\" >83.778976</td>\n",
       "    </tr>\n",
       "    <tr>\n",
       "      <th id=\"T_2af18_level0_row12\" class=\"row_heading level0 row12\" >Thomas High School</th>\n",
       "      <td id=\"T_2af18_row12_col0\" class=\"data row12 col0\" >83.590022</td>\n",
       "      <td id=\"T_2af18_row12_col1\" class=\"data row12 col1\" >83.087886</td>\n",
       "      <td id=\"T_2af18_row12_col2\" class=\"data row12 col2\" >83.498795</td>\n",
       "      <td id=\"T_2af18_row12_col3\" class=\"data row12 col3\" >83.497041</td>\n",
       "    </tr>\n",
       "    <tr>\n",
       "      <th id=\"T_2af18_level0_row13\" class=\"row_heading level0 row13\" >Wilson High School</th>\n",
       "      <td id=\"T_2af18_row13_col0\" class=\"data row13 col0\" >83.085578</td>\n",
       "      <td id=\"T_2af18_row13_col1\" class=\"data row13 col1\" >83.724422</td>\n",
       "      <td id=\"T_2af18_row13_col2\" class=\"data row13 col2\" >83.195326</td>\n",
       "      <td id=\"T_2af18_row13_col3\" class=\"data row13 col3\" >83.035794</td>\n",
       "    </tr>\n",
       "    <tr>\n",
       "      <th id=\"T_2af18_level0_row14\" class=\"row_heading level0 row14\" >Wright High School</th>\n",
       "      <td id=\"T_2af18_row14_col0\" class=\"data row14 col0\" >83.264706</td>\n",
       "      <td id=\"T_2af18_row14_col1\" class=\"data row14 col1\" >84.010288</td>\n",
       "      <td id=\"T_2af18_row14_col2\" class=\"data row14 col2\" >83.836782</td>\n",
       "      <td id=\"T_2af18_row14_col3\" class=\"data row14 col3\" >83.644986</td>\n",
       "    </tr>\n",
       "  </tbody>\n",
       "</table>\n"
      ],
      "text/plain": [
       "<pandas.io.formats.style.Styler at 0x7fe25c2f2dc0>"
      ]
     },
     "execution_count": 28,
     "metadata": {},
     "output_type": "execute_result"
    }
   ],
   "source": [
    "ninth_math = student_data.loc[student_data['grade'] == '9th'].groupby('school_name')[\"math_score\"].mean()\n",
    "tenth_math = student_data.loc[student_data['grade'] == '10th'].groupby('school_name')[\"math_score\"].mean()\n",
    "eleventh_math = student_data.loc[student_data['grade'] == '11th'].groupby('school_name')[\"math_score\"].mean()\n",
    "twelfth_math = student_data.loc[student_data['grade'] == '12th'].groupby('school_name')[\"math_score\"].mean()\n",
    "\n",
    "math_scores = pd.DataFrame({\n",
    "        \"9th\": ninth_math,\n",
    "        \"10th\": tenth_math,\n",
    "        \"11th\": eleventh_math,\n",
    "        \"12th\": twelfth_math\n",
    "})\n",
    "math_scores = math_scores[['9th', '10th', '11th', '12th']]\n",
    "math_scores.index.name = \"School Name\"\n",
    "\n",
    "#show and format\n",
    "math_scores.style.format({'9th': '{:.6f}', \n",
    "                          \"10th\": '{:.6f}', \n",
    "                          \"11th\": \"{:.6f}\", \n",
    "                          \"12th\": \"{:.6f}\"})"
   ]
  },
  {
   "cell_type": "markdown",
   "metadata": {},
   "source": [
    "## Reading Score by Grade "
   ]
  },
  {
   "cell_type": "markdown",
   "metadata": {},
   "source": [
    "* Perform the same operations as above for reading scores"
   ]
  },
  {
   "cell_type": "code",
   "execution_count": 29,
   "metadata": {},
   "outputs": [],
   "source": [
    "#Perform the same operations as above for reading scores\n",
    "ninth_reading = student_data.loc[student_data['grade'] == '9th'].groupby('school_name')[\"reading_score\"].mean()\n",
    "tenth_reading = student_data.loc[student_data['grade'] == '10th'].groupby('school_name')[\"reading_score\"].mean()\n",
    "eleventh_reading = student_data.loc[student_data['grade'] == '11th'].groupby('school_name')[\"reading_score\"].mean()\n",
    "twelfth_reading = student_data.loc[student_data['grade'] == '12th'].groupby('school_name')[\"reading_score\"].mean()"
   ]
  },
  {
   "cell_type": "code",
   "execution_count": 30,
   "metadata": {},
   "outputs": [],
   "source": [
    "#reading score averages by school and grade together\n",
    "reading_scores = pd.DataFrame({\n",
    "        \"9th\": ninth_reading,\n",
    "        \"10th\": tenth_reading,\n",
    "        \"11th\": eleventh_reading,\n",
    "        \"12th\": twelfth_reading\n",
    "})\n",
    "reading_scores = reading_scores[['9th', '10th', '11th', '12th']]\n",
    "reading_scores.index.name = \"School Name\""
   ]
  },
  {
   "cell_type": "code",
   "execution_count": 31,
   "metadata": {},
   "outputs": [
    {
     "data": {
      "text/html": [
       "<style type=\"text/css\">\n",
       "</style>\n",
       "<table id=\"T_db4b8\">\n",
       "  <thead>\n",
       "    <tr>\n",
       "      <th class=\"blank level0\" >&nbsp;</th>\n",
       "      <th id=\"T_db4b8_level0_col0\" class=\"col_heading level0 col0\" >9th</th>\n",
       "      <th id=\"T_db4b8_level0_col1\" class=\"col_heading level0 col1\" >10th</th>\n",
       "      <th id=\"T_db4b8_level0_col2\" class=\"col_heading level0 col2\" >11th</th>\n",
       "      <th id=\"T_db4b8_level0_col3\" class=\"col_heading level0 col3\" >12th</th>\n",
       "    </tr>\n",
       "    <tr>\n",
       "      <th class=\"index_name level0\" >School Name</th>\n",
       "      <th class=\"blank col0\" >&nbsp;</th>\n",
       "      <th class=\"blank col1\" >&nbsp;</th>\n",
       "      <th class=\"blank col2\" >&nbsp;</th>\n",
       "      <th class=\"blank col3\" >&nbsp;</th>\n",
       "    </tr>\n",
       "  </thead>\n",
       "  <tbody>\n",
       "    <tr>\n",
       "      <th id=\"T_db4b8_level0_row0\" class=\"row_heading level0 row0\" >Bailey High School</th>\n",
       "      <td id=\"T_db4b8_row0_col0\" class=\"data row0 col0\" >81.303155</td>\n",
       "      <td id=\"T_db4b8_row0_col1\" class=\"data row0 col1\" >80.907183</td>\n",
       "      <td id=\"T_db4b8_row0_col2\" class=\"data row0 col2\" >80.945643</td>\n",
       "      <td id=\"T_db4b8_row0_col3\" class=\"data row0 col3\" >80.912451</td>\n",
       "    </tr>\n",
       "    <tr>\n",
       "      <th id=\"T_db4b8_level0_row1\" class=\"row_heading level0 row1\" >Cabrera High School</th>\n",
       "      <td id=\"T_db4b8_row1_col0\" class=\"data row1 col0\" >83.676136</td>\n",
       "      <td id=\"T_db4b8_row1_col1\" class=\"data row1 col1\" >84.253219</td>\n",
       "      <td id=\"T_db4b8_row1_col2\" class=\"data row1 col2\" >83.788382</td>\n",
       "      <td id=\"T_db4b8_row1_col3\" class=\"data row1 col3\" >84.287958</td>\n",
       "    </tr>\n",
       "    <tr>\n",
       "      <th id=\"T_db4b8_level0_row2\" class=\"row_heading level0 row2\" >Figueroa High School</th>\n",
       "      <td id=\"T_db4b8_row2_col0\" class=\"data row2 col0\" >81.198598</td>\n",
       "      <td id=\"T_db4b8_row2_col1\" class=\"data row2 col1\" >81.408912</td>\n",
       "      <td id=\"T_db4b8_row2_col2\" class=\"data row2 col2\" >80.640339</td>\n",
       "      <td id=\"T_db4b8_row2_col3\" class=\"data row2 col3\" >81.384863</td>\n",
       "    </tr>\n",
       "    <tr>\n",
       "      <th id=\"T_db4b8_level0_row3\" class=\"row_heading level0 row3\" >Ford High School</th>\n",
       "      <td id=\"T_db4b8_row3_col0\" class=\"data row3 col0\" >80.632653</td>\n",
       "      <td id=\"T_db4b8_row3_col1\" class=\"data row3 col1\" >81.262712</td>\n",
       "      <td id=\"T_db4b8_row3_col2\" class=\"data row3 col2\" >80.403642</td>\n",
       "      <td id=\"T_db4b8_row3_col3\" class=\"data row3 col3\" >80.662338</td>\n",
       "    </tr>\n",
       "    <tr>\n",
       "      <th id=\"T_db4b8_level0_row4\" class=\"row_heading level0 row4\" >Griffin High School</th>\n",
       "      <td id=\"T_db4b8_row4_col0\" class=\"data row4 col0\" >83.369193</td>\n",
       "      <td id=\"T_db4b8_row4_col1\" class=\"data row4 col1\" >83.706897</td>\n",
       "      <td id=\"T_db4b8_row4_col2\" class=\"data row4 col2\" >84.288089</td>\n",
       "      <td id=\"T_db4b8_row4_col3\" class=\"data row4 col3\" >84.013699</td>\n",
       "    </tr>\n",
       "    <tr>\n",
       "      <th id=\"T_db4b8_level0_row5\" class=\"row_heading level0 row5\" >Hernandez High School</th>\n",
       "      <td id=\"T_db4b8_row5_col0\" class=\"data row5 col0\" >80.866860</td>\n",
       "      <td id=\"T_db4b8_row5_col1\" class=\"data row5 col1\" >80.660147</td>\n",
       "      <td id=\"T_db4b8_row5_col2\" class=\"data row5 col2\" >81.396140</td>\n",
       "      <td id=\"T_db4b8_row5_col3\" class=\"data row5 col3\" >80.857143</td>\n",
       "    </tr>\n",
       "    <tr>\n",
       "      <th id=\"T_db4b8_level0_row6\" class=\"row_heading level0 row6\" >Holden High School</th>\n",
       "      <td id=\"T_db4b8_row6_col0\" class=\"data row6 col0\" >83.677165</td>\n",
       "      <td id=\"T_db4b8_row6_col1\" class=\"data row6 col1\" >83.324561</td>\n",
       "      <td id=\"T_db4b8_row6_col2\" class=\"data row6 col2\" >83.815534</td>\n",
       "      <td id=\"T_db4b8_row6_col3\" class=\"data row6 col3\" >84.698795</td>\n",
       "    </tr>\n",
       "    <tr>\n",
       "      <th id=\"T_db4b8_level0_row7\" class=\"row_heading level0 row7\" >Huang High School</th>\n",
       "      <td id=\"T_db4b8_row7_col0\" class=\"data row7 col0\" >81.290284</td>\n",
       "      <td id=\"T_db4b8_row7_col1\" class=\"data row7 col1\" >81.512386</td>\n",
       "      <td id=\"T_db4b8_row7_col2\" class=\"data row7 col2\" >81.417476</td>\n",
       "      <td id=\"T_db4b8_row7_col3\" class=\"data row7 col3\" >80.305983</td>\n",
       "    </tr>\n",
       "    <tr>\n",
       "      <th id=\"T_db4b8_level0_row8\" class=\"row_heading level0 row8\" >Johnson High School</th>\n",
       "      <td id=\"T_db4b8_row8_col0\" class=\"data row8 col0\" >81.260714</td>\n",
       "      <td id=\"T_db4b8_row8_col1\" class=\"data row8 col1\" >80.773431</td>\n",
       "      <td id=\"T_db4b8_row8_col2\" class=\"data row8 col2\" >80.616027</td>\n",
       "      <td id=\"T_db4b8_row8_col3\" class=\"data row8 col3\" >81.227564</td>\n",
       "    </tr>\n",
       "    <tr>\n",
       "      <th id=\"T_db4b8_level0_row9\" class=\"row_heading level0 row9\" >Pena High School</th>\n",
       "      <td id=\"T_db4b8_row9_col0\" class=\"data row9 col0\" >83.807273</td>\n",
       "      <td id=\"T_db4b8_row9_col1\" class=\"data row9 col1\" >83.612000</td>\n",
       "      <td id=\"T_db4b8_row9_col2\" class=\"data row9 col2\" >84.335938</td>\n",
       "      <td id=\"T_db4b8_row9_col3\" class=\"data row9 col3\" >84.591160</td>\n",
       "    </tr>\n",
       "    <tr>\n",
       "      <th id=\"T_db4b8_level0_row10\" class=\"row_heading level0 row10\" >Rodriguez High School</th>\n",
       "      <td id=\"T_db4b8_row10_col0\" class=\"data row10 col0\" >80.993127</td>\n",
       "      <td id=\"T_db4b8_row10_col1\" class=\"data row10 col1\" >80.629808</td>\n",
       "      <td id=\"T_db4b8_row10_col2\" class=\"data row10 col2\" >80.864811</td>\n",
       "      <td id=\"T_db4b8_row10_col3\" class=\"data row10 col3\" >80.376426</td>\n",
       "    </tr>\n",
       "    <tr>\n",
       "      <th id=\"T_db4b8_level0_row11\" class=\"row_heading level0 row11\" >Shelton High School</th>\n",
       "      <td id=\"T_db4b8_row11_col0\" class=\"data row11 col0\" >84.122642</td>\n",
       "      <td id=\"T_db4b8_row11_col1\" class=\"data row11 col1\" >83.441964</td>\n",
       "      <td id=\"T_db4b8_row11_col2\" class=\"data row11 col2\" >84.373786</td>\n",
       "      <td id=\"T_db4b8_row11_col3\" class=\"data row11 col3\" >82.781671</td>\n",
       "    </tr>\n",
       "    <tr>\n",
       "      <th id=\"T_db4b8_level0_row12\" class=\"row_heading level0 row12\" >Thomas High School</th>\n",
       "      <td id=\"T_db4b8_row12_col0\" class=\"data row12 col0\" >83.728850</td>\n",
       "      <td id=\"T_db4b8_row12_col1\" class=\"data row12 col1\" >84.254157</td>\n",
       "      <td id=\"T_db4b8_row12_col2\" class=\"data row12 col2\" >83.585542</td>\n",
       "      <td id=\"T_db4b8_row12_col3\" class=\"data row12 col3\" >83.831361</td>\n",
       "    </tr>\n",
       "    <tr>\n",
       "      <th id=\"T_db4b8_level0_row13\" class=\"row_heading level0 row13\" >Wilson High School</th>\n",
       "      <td id=\"T_db4b8_row13_col0\" class=\"data row13 col0\" >83.939778</td>\n",
       "      <td id=\"T_db4b8_row13_col1\" class=\"data row13 col1\" >84.021452</td>\n",
       "      <td id=\"T_db4b8_row13_col2\" class=\"data row13 col2\" >83.764608</td>\n",
       "      <td id=\"T_db4b8_row13_col3\" class=\"data row13 col3\" >84.317673</td>\n",
       "    </tr>\n",
       "    <tr>\n",
       "      <th id=\"T_db4b8_level0_row14\" class=\"row_heading level0 row14\" >Wright High School</th>\n",
       "      <td id=\"T_db4b8_row14_col0\" class=\"data row14 col0\" >83.833333</td>\n",
       "      <td id=\"T_db4b8_row14_col1\" class=\"data row14 col1\" >83.812757</td>\n",
       "      <td id=\"T_db4b8_row14_col2\" class=\"data row14 col2\" >84.156322</td>\n",
       "      <td id=\"T_db4b8_row14_col3\" class=\"data row14 col3\" >84.073171</td>\n",
       "    </tr>\n",
       "  </tbody>\n",
       "</table>\n"
      ],
      "text/plain": [
       "<pandas.io.formats.style.Styler at 0x7fe259b67b50>"
      ]
     },
     "execution_count": 31,
     "metadata": {},
     "output_type": "execute_result"
    }
   ],
   "source": [
    "#format\n",
    "reading_scores.style.format({'9th': '{:.6f}', \n",
    "                             \"10th\": '{:.6f}', \n",
    "                             \"11th\": \"{:.6f}\", \n",
    "                             \"12th\": \"{:.6f}\"})"
   ]
  },
  {
   "cell_type": "markdown",
   "metadata": {},
   "source": [
    "## Scores by School Spending"
   ]
  },
  {
   "cell_type": "markdown",
   "metadata": {},
   "source": [
    "* Create a table that breaks down school performances based on average Spending Ranges (Per Student). Use 4 reasonable bins to group school spending. Include in the table each of the following:\n",
    "  * Average Math Score\n",
    "  * Average Reading Score\n",
    "  * % Passing Math\n",
    "  * % Passing Reading\n",
    "  * Overall Passing Rate (Average of the above two)"
   ]
  },
  {
   "cell_type": "code",
   "execution_count": 32,
   "metadata": {},
   "outputs": [],
   "source": [
    "# create spending bins\n",
    "\n",
    "\n",
    "bins = [0, 584, 629, 644, 675]\n",
    "group_name = [\"<$584\", \"$585-629\", \"$630-644\", \"$645-675\"]\n",
    "\n",
    "school_data_complete['spending_bins'] = pd.cut(school_data_complete['budget']/school_data_complete['size'], bins, labels = group_name)"
   ]
  },
  {
   "cell_type": "code",
   "execution_count": 33,
   "metadata": {},
   "outputs": [],
   "source": [
    "#group by spending\n",
    "by_spending = school_data_complete.groupby('spending_bins')\n",
    "\n",
    "\n",
    "avg_math = by_spending['math_score'].mean()\n",
    "\n",
    "avg_read = by_spending['reading_score'].mean()\n",
    "pass_math = school_data_complete[school_data_complete['math_score'] >= 70].groupby('spending_bins')['Student ID'].count()/by_spending['Student ID'].count()*100\n",
    "pass_read = school_data_complete[school_data_complete['reading_score'] >= 70].groupby('spending_bins')['Student ID'].count()/by_spending['Student ID'].count()*100\n",
    "overall = school_data_complete[(school_data_complete['reading_score'] >= 70) & (school_data_complete['math_score'] >= 70)].groupby('spending_bins')['Student ID'].count()/by_spending['Student ID'].count()*100"
   ]
  },
  {
   "cell_type": "code",
   "execution_count": 34,
   "metadata": {},
   "outputs": [],
   "source": [
    "    \n",
    "# df build            \n",
    "scores_by_spend = pd.DataFrame({\n",
    "    \"Average Math Score\": avg_math,\n",
    "    \"Average Reading Score\": avg_read,\n",
    "    \"% Passing Math\": pass_math,\n",
    "    \"% Passing Reading\": pass_read,\n",
    "    \"% Overall Passing\": overall\n",
    "            \n",
    "})"
   ]
  },
  {
   "cell_type": "code",
   "execution_count": 35,
   "metadata": {},
   "outputs": [],
   "source": [
    "            \n",
    "#reorder columns\n",
    "scores_by_spend = scores_by_spend[[\n",
    "    \"Average Math Score\",\n",
    "    \"Average Reading Score\",\n",
    "    \"% Passing Math\",\n",
    "    \"% Passing Reading\",\n",
    "    \"% Overall Passing\"\n",
    "]]"
   ]
  },
  {
   "cell_type": "code",
   "execution_count": 36,
   "metadata": {},
   "outputs": [
    {
     "data": {
      "text/html": [
       "<style type=\"text/css\">\n",
       "</style>\n",
       "<table id=\"T_b5dd6\">\n",
       "  <thead>\n",
       "    <tr>\n",
       "      <th class=\"blank level0\" >&nbsp;</th>\n",
       "      <th id=\"T_b5dd6_level0_col0\" class=\"col_heading level0 col0\" >Average Math Score</th>\n",
       "      <th id=\"T_b5dd6_level0_col1\" class=\"col_heading level0 col1\" >Average Reading Score</th>\n",
       "      <th id=\"T_b5dd6_level0_col2\" class=\"col_heading level0 col2\" >% Passing Math</th>\n",
       "      <th id=\"T_b5dd6_level0_col3\" class=\"col_heading level0 col3\" >% Passing Reading</th>\n",
       "      <th id=\"T_b5dd6_level0_col4\" class=\"col_heading level0 col4\" >% Overall Passing</th>\n",
       "    </tr>\n",
       "    <tr>\n",
       "      <th class=\"index_name level0\" >Per Student Budget</th>\n",
       "      <th class=\"blank col0\" >&nbsp;</th>\n",
       "      <th class=\"blank col1\" >&nbsp;</th>\n",
       "      <th class=\"blank col2\" >&nbsp;</th>\n",
       "      <th class=\"blank col3\" >&nbsp;</th>\n",
       "      <th class=\"blank col4\" >&nbsp;</th>\n",
       "    </tr>\n",
       "  </thead>\n",
       "  <tbody>\n",
       "    <tr>\n",
       "      <th id=\"T_b5dd6_level0_row0\" class=\"row_heading level0 row0\" ><$584</th>\n",
       "      <td id=\"T_b5dd6_row0_col0\" class=\"data row0 col0\" >83.36</td>\n",
       "      <td id=\"T_b5dd6_row0_col1\" class=\"data row0 col1\" >83.96</td>\n",
       "      <td id=\"T_b5dd6_row0_col2\" class=\"data row0 col2\" >93.70</td>\n",
       "      <td id=\"T_b5dd6_row0_col3\" class=\"data row0 col3\" >96.69</td>\n",
       "      <td id=\"T_b5dd6_row0_col4\" class=\"data row0 col4\" >90.64</td>\n",
       "    </tr>\n",
       "    <tr>\n",
       "      <th id=\"T_b5dd6_level0_row1\" class=\"row_heading level0 row1\" >$585-629</th>\n",
       "      <td id=\"T_b5dd6_row1_col0\" class=\"data row1 col0\" >79.98</td>\n",
       "      <td id=\"T_b5dd6_row1_col1\" class=\"data row1 col1\" >82.31</td>\n",
       "      <td id=\"T_b5dd6_row1_col2\" class=\"data row1 col2\" >79.11</td>\n",
       "      <td id=\"T_b5dd6_row1_col3\" class=\"data row1 col3\" >88.51</td>\n",
       "      <td id=\"T_b5dd6_row1_col4\" class=\"data row1 col4\" >70.94</td>\n",
       "    </tr>\n",
       "    <tr>\n",
       "      <th id=\"T_b5dd6_level0_row2\" class=\"row_heading level0 row2\" >$630-644</th>\n",
       "      <td id=\"T_b5dd6_row2_col0\" class=\"data row2 col0\" >77.82</td>\n",
       "      <td id=\"T_b5dd6_row2_col1\" class=\"data row2 col1\" >81.30</td>\n",
       "      <td id=\"T_b5dd6_row2_col2\" class=\"data row2 col2\" >70.62</td>\n",
       "      <td id=\"T_b5dd6_row2_col3\" class=\"data row2 col3\" >82.60</td>\n",
       "      <td id=\"T_b5dd6_row2_col4\" class=\"data row2 col4\" >58.84</td>\n",
       "    </tr>\n",
       "    <tr>\n",
       "      <th id=\"T_b5dd6_level0_row3\" class=\"row_heading level0 row3\" >$645-675</th>\n",
       "      <td id=\"T_b5dd6_row3_col0\" class=\"data row3 col0\" >77.05</td>\n",
       "      <td id=\"T_b5dd6_row3_col1\" class=\"data row3 col1\" >81.01</td>\n",
       "      <td id=\"T_b5dd6_row3_col2\" class=\"data row3 col2\" >66.23</td>\n",
       "      <td id=\"T_b5dd6_row3_col3\" class=\"data row3 col3\" >81.11</td>\n",
       "      <td id=\"T_b5dd6_row3_col4\" class=\"data row3 col4\" >53.53</td>\n",
       "    </tr>\n",
       "  </tbody>\n",
       "</table>\n"
      ],
      "text/plain": [
       "<pandas.io.formats.style.Styler at 0x7fe25bb05850>"
      ]
     },
     "execution_count": 36,
     "metadata": {},
     "output_type": "execute_result"
    }
   ],
   "source": [
    "scores_by_spend.index.name = \"Per Student Budget\"\n",
    "\n",
    "\n",
    "#formating\n",
    "scores_by_spend.style.format({'Average Math Score': '{:.2f}', \n",
    "                              'Average Reading Score': '{:.2f}', \n",
    "                              '% Passing Math': '{:.2f}', \n",
    "                              '% Passing Reading':'{:.2f}', \n",
    "                              '% Overall Passing': '{:.2f}'})"
   ]
  },
  {
   "cell_type": "markdown",
   "metadata": {},
   "source": [
    "## Scores by School Size"
   ]
  },
  {
   "cell_type": "markdown",
   "metadata": {},
   "source": [
    "* Perform the same operations as above, based on school size."
   ]
  },
  {
   "cell_type": "code",
   "execution_count": 37,
   "metadata": {},
   "outputs": [],
   "source": [
    "# create size bins\n",
    "bins = [0, 1000, 1999,5000]\n",
    "group_name = [\"Small (<1000)\", \"Medium (1000-2000)\" , \"Large (2000-5000)\"]\n",
    "school_data_complete['size_bins'] = pd.cut(school_data_complete['size'], bins, labels = group_name)"
   ]
  },
  {
   "cell_type": "code",
   "execution_count": 38,
   "metadata": {},
   "outputs": [],
   "source": [
    "#group by spending\n",
    "by_size = school_data_complete.groupby('size_bins')"
   ]
  },
  {
   "cell_type": "code",
   "execution_count": 39,
   "metadata": {},
   "outputs": [],
   "source": [
    "#calculations \n",
    "average_math_score = by_size['math_score'].mean()\n",
    "average_reading_score = by_size['math_score'].mean()\n",
    "pass_math_percent = school_data_complete[school_data_complete['math_score'] >= 70].groupby('size_bins')['Student ID'].count()/by_size['Student ID'].count()*100\n",
    "pass_read_percent = school_data_complete[school_data_complete['reading_score'] >= 70].groupby('size_bins')['Student ID'].count()/by_size['Student ID'].count()*100\n",
    "overall = school_data_complete[(school_data_complete['reading_score'] >= 70) & (school_data_complete['math_score'] >= 70)].groupby('size_bins')['Student ID'].count()/by_size['Student ID'].count()*100"
   ]
  },
  {
   "cell_type": "code",
   "execution_count": 40,
   "metadata": {},
   "outputs": [],
   "source": [
    "            \n",
    "# df build            \n",
    "scores_by_size = pd.DataFrame({\n",
    "    \"Average Math Score\": average_math_score,\n",
    "    \"Average Reading Score\": average_reading_score,\n",
    "    '% Passing Math': pass_math_percent,\n",
    "    '% Passing Reading': pass_read_percent,\n",
    "    '% Overall Passing': overall\n",
    "            \n",
    "})\n",
    " "
   ]
  },
  {
   "cell_type": "code",
   "execution_count": 41,
   "metadata": {},
   "outputs": [],
   "source": [
    "           \n",
    "#reorder columns\n",
    "scores_by_size = scores_by_size[[\n",
    "    \"Average Math Score\",\n",
    "    \"Average Reading Score\",\n",
    "    '% Passing Math',\n",
    "    '% Passing Reading',\n",
    "    '% Overall Passing'\n",
    "]]\n",
    "\n",
    "scores_by_size.index.name = \"Total Students\"\n",
    "scores_by_size = scores_by_size.reindex(group_name)\n"
   ]
  },
  {
   "cell_type": "code",
   "execution_count": 42,
   "metadata": {},
   "outputs": [
    {
     "data": {
      "text/html": [
       "<style type=\"text/css\">\n",
       "</style>\n",
       "<table id=\"T_c743e\">\n",
       "  <thead>\n",
       "    <tr>\n",
       "      <th class=\"blank level0\" >&nbsp;</th>\n",
       "      <th id=\"T_c743e_level0_col0\" class=\"col_heading level0 col0\" >Average Math Score</th>\n",
       "      <th id=\"T_c743e_level0_col1\" class=\"col_heading level0 col1\" >Average Reading Score</th>\n",
       "      <th id=\"T_c743e_level0_col2\" class=\"col_heading level0 col2\" >% Passing Math</th>\n",
       "      <th id=\"T_c743e_level0_col3\" class=\"col_heading level0 col3\" >% Passing Reading</th>\n",
       "      <th id=\"T_c743e_level0_col4\" class=\"col_heading level0 col4\" >% Overall Passing</th>\n",
       "    </tr>\n",
       "    <tr>\n",
       "      <th class=\"index_name level0\" >Total Students</th>\n",
       "      <th class=\"blank col0\" >&nbsp;</th>\n",
       "      <th class=\"blank col1\" >&nbsp;</th>\n",
       "      <th class=\"blank col2\" >&nbsp;</th>\n",
       "      <th class=\"blank col3\" >&nbsp;</th>\n",
       "      <th class=\"blank col4\" >&nbsp;</th>\n",
       "    </tr>\n",
       "  </thead>\n",
       "  <tbody>\n",
       "    <tr>\n",
       "      <th id=\"T_c743e_level0_row0\" class=\"row_heading level0 row0\" >Small (<1000)</th>\n",
       "      <td id=\"T_c743e_row0_col0\" class=\"data row0 col0\" >83.828654</td>\n",
       "      <td id=\"T_c743e_row0_col1\" class=\"data row0 col1\" >83.828654</td>\n",
       "      <td id=\"T_c743e_row0_col2\" class=\"data row0 col2\" >93.952484</td>\n",
       "      <td id=\"T_c743e_row0_col3\" class=\"data row0 col3\" >96.040317</td>\n",
       "      <td id=\"T_c743e_row0_col4\" class=\"data row0 col4\" >90.136789</td>\n",
       "    </tr>\n",
       "    <tr>\n",
       "      <th id=\"T_c743e_level0_row1\" class=\"row_heading level0 row1\" >Medium (1000-2000)</th>\n",
       "      <td id=\"T_c743e_row1_col0\" class=\"data row1 col0\" >83.372682</td>\n",
       "      <td id=\"T_c743e_row1_col1\" class=\"data row1 col1\" >83.372682</td>\n",
       "      <td id=\"T_c743e_row1_col2\" class=\"data row1 col2\" >93.616522</td>\n",
       "      <td id=\"T_c743e_row1_col3\" class=\"data row1 col3\" >96.773058</td>\n",
       "      <td id=\"T_c743e_row1_col4\" class=\"data row1 col4\" >90.624267</td>\n",
       "    </tr>\n",
       "    <tr>\n",
       "      <th id=\"T_c743e_level0_row2\" class=\"row_heading level0 row2\" >Large (2000-5000)</th>\n",
       "      <td id=\"T_c743e_row2_col0\" class=\"data row2 col0\" >77.477597</td>\n",
       "      <td id=\"T_c743e_row2_col1\" class=\"data row2 col1\" >77.477597</td>\n",
       "      <td id=\"T_c743e_row2_col2\" class=\"data row2 col2\" >68.652380</td>\n",
       "      <td id=\"T_c743e_row2_col3\" class=\"data row2 col3\" >82.125158</td>\n",
       "      <td id=\"T_c743e_row2_col4\" class=\"data row2 col4\" >56.574046</td>\n",
       "    </tr>\n",
       "  </tbody>\n",
       "</table>\n"
      ],
      "text/plain": [
       "<pandas.io.formats.style.Styler at 0x7fe25c34a070>"
      ]
     },
     "execution_count": 42,
     "metadata": {},
     "output_type": "execute_result"
    }
   ],
   "source": [
    "scores_by_size.index.name = \"Total Students\"\n",
    "scores_by_size = scores_by_size.reindex(group_name)\n",
    "\n",
    "#formating\n",
    "scores_by_size.style.format({'Average Math Score': '{:.6f}', \n",
    "                              'Average Reading Score': '{:.6f}', \n",
    "                              '% Passing Math': '{:.6f}', \n",
    "                              '% Passing Reading':'{:.6f}', \n",
    "                              '% Overall Passing': '{:.6f}'})"
   ]
  },
  {
   "cell_type": "markdown",
   "metadata": {},
   "source": [
    "## Scores by School Type"
   ]
  },
  {
   "cell_type": "markdown",
   "metadata": {},
   "source": [
    "* Perform the same operations as above, based on school type"
   ]
  },
  {
   "cell_type": "code",
   "execution_count": 43,
   "metadata": {},
   "outputs": [],
   "source": [
    "# group by type of school\n",
    "schoo_type = school_data_complete.groupby(\"type\")"
   ]
  },
  {
   "cell_type": "code",
   "execution_count": 44,
   "metadata": {},
   "outputs": [],
   "source": [
    "#calculations \n",
    "average_math_score = schoo_type['math_score'].mean()\n",
    "average_reading_score = schoo_type['math_score'].mean()\n",
    "pass_math_percent = school_data_complete[school_data_complete['math_score'] >= 70].groupby('type')['Student ID'].count()/schoo_type['Student ID'].count()*100\n",
    "pass_read_percent = school_data_complete[school_data_complete['reading_score'] >= 70].groupby('type')['Student ID'].count()/schoo_type['Student ID'].count()*100\n",
    "overall = school_data_complete[(school_data_complete['reading_score'] >= 70) & (school_data_complete['math_score'] >= 70)].groupby('type')['Student ID'].count()/schoo_type['Student ID'].count()*100"
   ]
  },
  {
   "cell_type": "code",
   "execution_count": 48,
   "metadata": {},
   "outputs": [],
   "source": [
    "# df build            \n",
    "scores_schoo_type = pd.DataFrame({\n",
    "    \"Average Math Score\": average_math_score,\n",
    "    \"Average Reading Score\": average_reading_score,\n",
    "    '% Passing Math': pass_math_percent,\n",
    "    '% Passing Reading': pass_read_percent,\n",
    "       \"% Overall Passing\": overall})\n",
    " "
   ]
  },
  {
   "cell_type": "code",
   "execution_count": 52,
   "metadata": {},
   "outputs": [],
   "source": [
    "\n",
    "    \n",
    "#reorder columns\n",
    "scores_schoo_type = scores_schoo_type[[\n",
    "    \"Average Math Score\",\n",
    "    \"Average Reading Score\",\n",
    "    '% Passing Math',\n",
    "    '% Passing Reading',\n",
    "    \"% Overall Passing\"]]\n",
    "scores_schoo_type.index.name = \"Type of School\""
   ]
  },
  {
   "cell_type": "code",
   "execution_count": 50,
   "metadata": {},
   "outputs": [
    {
     "data": {
      "text/html": [
       "<style type=\"text/css\">\n",
       "</style>\n",
       "<table id=\"T_352fa\">\n",
       "  <thead>\n",
       "    <tr>\n",
       "      <th class=\"blank level0\" >&nbsp;</th>\n",
       "      <th id=\"T_352fa_level0_col0\" class=\"col_heading level0 col0\" >Average Math Score</th>\n",
       "      <th id=\"T_352fa_level0_col1\" class=\"col_heading level0 col1\" >Average Reading Score</th>\n",
       "      <th id=\"T_352fa_level0_col2\" class=\"col_heading level0 col2\" >% Passing Math</th>\n",
       "      <th id=\"T_352fa_level0_col3\" class=\"col_heading level0 col3\" >% Passing Reading</th>\n",
       "      <th id=\"T_352fa_level0_col4\" class=\"col_heading level0 col4\" >% Overall Passing</th>\n",
       "    </tr>\n",
       "    <tr>\n",
       "      <th class=\"index_name level0\" >type</th>\n",
       "      <th class=\"blank col0\" >&nbsp;</th>\n",
       "      <th class=\"blank col1\" >&nbsp;</th>\n",
       "      <th class=\"blank col2\" >&nbsp;</th>\n",
       "      <th class=\"blank col3\" >&nbsp;</th>\n",
       "      <th class=\"blank col4\" >&nbsp;</th>\n",
       "    </tr>\n",
       "  </thead>\n",
       "  <tbody>\n",
       "    <tr>\n",
       "      <th id=\"T_352fa_level0_row0\" class=\"row_heading level0 row0\" >Charter</th>\n",
       "      <td id=\"T_352fa_row0_col0\" class=\"data row0 col0\" >83.406183</td>\n",
       "      <td id=\"T_352fa_row0_col1\" class=\"data row0 col1\" >83.406183</td>\n",
       "      <td id=\"T_352fa_row0_col2\" class=\"data row0 col2\" >93.701821</td>\n",
       "      <td id=\"T_352fa_row0_col3\" class=\"data row0 col3\" >96.645891</td>\n",
       "      <td id=\"T_352fa_row0_col4\" class=\"data row0 col4\" >90.560932</td>\n",
       "    </tr>\n",
       "    <tr>\n",
       "      <th id=\"T_352fa_level0_row1\" class=\"row_heading level0 row1\" >District</th>\n",
       "      <td id=\"T_352fa_row1_col0\" class=\"data row1 col0\" >76.987026</td>\n",
       "      <td id=\"T_352fa_row1_col1\" class=\"data row1 col1\" >76.987026</td>\n",
       "      <td id=\"T_352fa_row1_col2\" class=\"data row1 col2\" >66.518387</td>\n",
       "      <td id=\"T_352fa_row1_col3\" class=\"data row1 col3\" >80.905249</td>\n",
       "      <td id=\"T_352fa_row1_col4\" class=\"data row1 col4\" >53.695878</td>\n",
       "    </tr>\n",
       "  </tbody>\n",
       "</table>\n"
      ],
      "text/plain": [
       "<pandas.io.formats.style.Styler at 0x7fe25c348d30>"
      ]
     },
     "execution_count": 50,
     "metadata": {},
     "output_type": "execute_result"
    }
   ],
   "source": [
    "#formating\n",
    "scores_schoo_type.style.format({'Average Math Score': '{:.6f}', \n",
    "                              'Average Reading Score': '{:.6f}', \n",
    "                              '% Passing Math': '{:.6f}', \n",
    "                              '% Passing Reading':'{:.6f}', \n",
    "                              '% Overall Passing': '{:.6f}'})"
   ]
  },
  {
   "cell_type": "code",
   "execution_count": null,
   "metadata": {},
   "outputs": [],
   "source": []
  },
  {
   "cell_type": "code",
   "execution_count": null,
   "metadata": {},
   "outputs": [],
   "source": []
  }
 ],
 "metadata": {
  "anaconda-cloud": {},
  "kernel_info": {
   "name": "python3"
  },
  "kernelspec": {
   "display_name": "PythonData38",
   "language": "python",
   "name": "pythondata38"
  },
  "language_info": {
   "codemirror_mode": {
    "name": "ipython",
    "version": 3
   },
   "file_extension": ".py",
   "mimetype": "text/x-python",
   "name": "python",
   "nbconvert_exporter": "python",
   "pygments_lexer": "ipython3",
   "version": "3.9.12"
  },
  "latex_envs": {
   "LaTeX_envs_menu_present": true,
   "autoclose": false,
   "autocomplete": true,
   "bibliofile": "biblio.bib",
   "cite_by": "apalike",
   "current_citInitial": 1,
   "eqLabelWithNumbers": true,
   "eqNumInitial": 1,
   "hotkeys": {
    "equation": "Ctrl-E",
    "itemize": "Ctrl-I"
   },
   "labels_anchors": false,
   "latex_user_defs": false,
   "report_style_numbering": false,
   "user_envs_cfg": false
  },
  "nteract": {
   "version": "0.8.4"
  }
 },
 "nbformat": 4,
 "nbformat_minor": 1
}
